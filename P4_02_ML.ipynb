{
 "cells": [
  {
   "cell_type": "markdown",
   "metadata": {},
   "source": [
    "<H1>Predictiong flight delays - Machine Learning</H1>"
   ]
  },
  {
   "cell_type": "markdown",
   "metadata": {},
   "source": [
    "<B>Import the libraries"
   ]
  },
  {
   "cell_type": "code",
   "execution_count": 1,
   "metadata": {},
   "outputs": [],
   "source": [
    "import os\n",
    "import glob\n",
    "import pandas as pd\n",
    "import numpy as np\n",
    "import csv\n",
    "import seaborn as sns\n",
    "import matplotlib.pyplot as plt\n",
    "sns.set_style(\"whitegrid\")\n",
    "import warnings; warnings.simplefilter('ignore')\n",
    "from sklearn.model_selection import train_test_split\n",
    "from sklearn.linear_model import Ridge, RidgeCV, Lasso, LassoCV\n",
    "from sklearn.metrics import mean_squared_error\n",
    "from sklearn.metrics import r2_score\n",
    "from sklearn import dummy\n",
    "from sklearn import preprocessing\n",
    "from sklearn import linear_model"
   ]
  },
  {
   "cell_type": "code",
   "execution_count": 2,
   "metadata": {},
   "outputs": [],
   "source": [
    "all_files = [\"2016_01.csv\"]\n",
    "li = []\n",
    "columns_to_keep = ['DAY_OF_MONTH','DAY_OF_WEEK','MONTH','ORIGIN','DEST','CRS_DEP_TIME','DEP_DELAY','CRS_ARR_TIME']\n",
    "for filename in all_files:\n",
    "    df = pd.read_csv(filename, index_col=None, header=0,error_bad_lines=False)\n",
    "    # Filter on ExpressJet\n",
    "    df = df[df['UNIQUE_CARRIER'] == 'B6']\n",
    "    # Leaving only non-canceled flights\n",
    "    df = df[(df['CANCELLED'] == 0)]\n",
    "    # Leaving only non-diverted flights\n",
    "    df = df[(df['DIVERTED'] == 0)]\n",
    "    # Filter out non-delayed flights < 0 DEP_DELAY\n",
    "    df = df[(df['DEP_DELAY'] > 0)]\n",
    "    # Keeping only necessary columns\n",
    "    df = df[columns_to_keep]\n",
    "    li.append(df)\n",
    "df = pd.concat(li, axis=0, ignore_index=True)\n",
    "del li"
   ]
  },
  {
   "cell_type": "code",
   "execution_count": 3,
   "metadata": {},
   "outputs": [
    {
     "data": {
      "text/html": [
       "<div>\n",
       "<style scoped>\n",
       "    .dataframe tbody tr th:only-of-type {\n",
       "        vertical-align: middle;\n",
       "    }\n",
       "\n",
       "    .dataframe tbody tr th {\n",
       "        vertical-align: top;\n",
       "    }\n",
       "\n",
       "    .dataframe thead th {\n",
       "        text-align: right;\n",
       "    }\n",
       "</style>\n",
       "<table border=\"1\" class=\"dataframe\">\n",
       "  <thead>\n",
       "    <tr style=\"text-align: right;\">\n",
       "      <th></th>\n",
       "      <th>DAY_OF_MONTH</th>\n",
       "      <th>DAY_OF_WEEK</th>\n",
       "      <th>MONTH</th>\n",
       "      <th>ORIGIN</th>\n",
       "      <th>DEST</th>\n",
       "      <th>CRS_DEP_TIME</th>\n",
       "      <th>DEP_DELAY</th>\n",
       "      <th>CRS_ARR_TIME</th>\n",
       "    </tr>\n",
       "  </thead>\n",
       "  <tbody>\n",
       "    <tr>\n",
       "      <th>0</th>\n",
       "      <td>1</td>\n",
       "      <td>5</td>\n",
       "      <td>1</td>\n",
       "      <td>SWF</td>\n",
       "      <td>MCO</td>\n",
       "      <td>1810</td>\n",
       "      <td>8.0</td>\n",
       "      <td>2110</td>\n",
       "    </tr>\n",
       "    <tr>\n",
       "      <th>1</th>\n",
       "      <td>1</td>\n",
       "      <td>5</td>\n",
       "      <td>1</td>\n",
       "      <td>LGB</td>\n",
       "      <td>OAK</td>\n",
       "      <td>2015</td>\n",
       "      <td>12.0</td>\n",
       "      <td>2132</td>\n",
       "    </tr>\n",
       "    <tr>\n",
       "      <th>2</th>\n",
       "      <td>1</td>\n",
       "      <td>5</td>\n",
       "      <td>1</td>\n",
       "      <td>JFK</td>\n",
       "      <td>PBI</td>\n",
       "      <td>805</td>\n",
       "      <td>2.0</td>\n",
       "      <td>1105</td>\n",
       "    </tr>\n",
       "    <tr>\n",
       "      <th>3</th>\n",
       "      <td>1</td>\n",
       "      <td>5</td>\n",
       "      <td>1</td>\n",
       "      <td>PBI</td>\n",
       "      <td>JFK</td>\n",
       "      <td>1716</td>\n",
       "      <td>11.0</td>\n",
       "      <td>2000</td>\n",
       "    </tr>\n",
       "    <tr>\n",
       "      <th>4</th>\n",
       "      <td>1</td>\n",
       "      <td>5</td>\n",
       "      <td>1</td>\n",
       "      <td>FLL</td>\n",
       "      <td>BDL</td>\n",
       "      <td>826</td>\n",
       "      <td>4.0</td>\n",
       "      <td>1116</td>\n",
       "    </tr>\n",
       "  </tbody>\n",
       "</table>\n",
       "</div>"
      ],
      "text/plain": [
       "   DAY_OF_MONTH  DAY_OF_WEEK  MONTH ORIGIN DEST  CRS_DEP_TIME  DEP_DELAY  \\\n",
       "0             1            5      1    SWF  MCO          1810        8.0   \n",
       "1             1            5      1    LGB  OAK          2015       12.0   \n",
       "2             1            5      1    JFK  PBI           805        2.0   \n",
       "3             1            5      1    PBI  JFK          1716       11.0   \n",
       "4             1            5      1    FLL  BDL           826        4.0   \n",
       "\n",
       "   CRS_ARR_TIME  \n",
       "0          2110  \n",
       "1          2132  \n",
       "2          1105  \n",
       "3          2000  \n",
       "4          1116  "
      ]
     },
     "execution_count": 3,
     "metadata": {},
     "output_type": "execute_result"
    }
   ],
   "source": [
    "df.head(5)"
   ]
  },
  {
   "cell_type": "code",
   "execution_count": 4,
   "metadata": {},
   "outputs": [
    {
     "name": "stdout",
     "output_type": "stream",
     "text": [
      "<class 'pandas.core.frame.DataFrame'>\n",
      "RangeIndex: 10294 entries, 0 to 10293\n",
      "Data columns (total 8 columns):\n",
      " #   Column        Non-Null Count  Dtype  \n",
      "---  ------        --------------  -----  \n",
      " 0   DAY_OF_MONTH  10294 non-null  int64  \n",
      " 1   DAY_OF_WEEK   10294 non-null  int64  \n",
      " 2   MONTH         10294 non-null  int64  \n",
      " 3   ORIGIN        10294 non-null  object \n",
      " 4   DEST          10294 non-null  object \n",
      " 5   CRS_DEP_TIME  10294 non-null  int64  \n",
      " 6   DEP_DELAY     10294 non-null  float64\n",
      " 7   CRS_ARR_TIME  10294 non-null  int64  \n",
      "dtypes: float64(1), int64(5), object(2)\n",
      "memory usage: 643.5+ KB\n"
     ]
    }
   ],
   "source": [
    "df.info()"
   ]
  },
  {
   "cell_type": "code",
   "execution_count": 5,
   "metadata": {},
   "outputs": [
    {
     "name": "stdout",
     "output_type": "stream",
     "text": [
      "<class 'pandas.core.frame.DataFrame'>\n",
      "RangeIndex: 10294 entries, 0 to 10293\n",
      "Data columns (total 8 columns):\n",
      " #   Column        Non-Null Count  Dtype \n",
      "---  ------        --------------  ----- \n",
      " 0   DAY_OF_MONTH  10294 non-null  int64 \n",
      " 1   DAY_OF_WEEK   10294 non-null  int64 \n",
      " 2   MONTH         10294 non-null  int64 \n",
      " 3   ORIGIN        10294 non-null  object\n",
      " 4   DEST          10294 non-null  object\n",
      " 5   CRS_DEP_TIME  10294 non-null  int64 \n",
      " 6   DEP_DELAY     10294 non-null  int64 \n",
      " 7   CRS_ARR_TIME  10294 non-null  int64 \n",
      "dtypes: int64(6), object(2)\n",
      "memory usage: 643.5+ KB\n"
     ]
    }
   ],
   "source": [
    "# Type conversion\n",
    "df['DAY_OF_WEEK'] = df['DAY_OF_WEEK'].astype(int)\n",
    "df['DAY_OF_MONTH'] = df['DAY_OF_MONTH'].astype(int)\n",
    "df['CRS_DEP_TIME'] = df['CRS_DEP_TIME'].astype(int)\n",
    "df['DEP_DELAY'] = df['DEP_DELAY'].astype(int)\n",
    "df.info()"
   ]
  },
  {
   "cell_type": "code",
   "execution_count": 6,
   "metadata": {},
   "outputs": [
    {
     "data": {
      "text/html": [
       "<div>\n",
       "<style scoped>\n",
       "    .dataframe tbody tr th:only-of-type {\n",
       "        vertical-align: middle;\n",
       "    }\n",
       "\n",
       "    .dataframe tbody tr th {\n",
       "        vertical-align: top;\n",
       "    }\n",
       "\n",
       "    .dataframe thead th {\n",
       "        text-align: right;\n",
       "    }\n",
       "</style>\n",
       "<table border=\"1\" class=\"dataframe\">\n",
       "  <thead>\n",
       "    <tr style=\"text-align: right;\">\n",
       "      <th></th>\n",
       "      <th>variable</th>\n",
       "      <th>missing values</th>\n",
       "      <th>filling factor (%)</th>\n",
       "    </tr>\n",
       "  </thead>\n",
       "  <tbody>\n",
       "    <tr>\n",
       "      <th>0</th>\n",
       "      <td>DAY_OF_MONTH</td>\n",
       "      <td>0</td>\n",
       "      <td>100.0</td>\n",
       "    </tr>\n",
       "    <tr>\n",
       "      <th>1</th>\n",
       "      <td>DAY_OF_WEEK</td>\n",
       "      <td>0</td>\n",
       "      <td>100.0</td>\n",
       "    </tr>\n",
       "    <tr>\n",
       "      <th>2</th>\n",
       "      <td>MONTH</td>\n",
       "      <td>0</td>\n",
       "      <td>100.0</td>\n",
       "    </tr>\n",
       "    <tr>\n",
       "      <th>3</th>\n",
       "      <td>ORIGIN</td>\n",
       "      <td>0</td>\n",
       "      <td>100.0</td>\n",
       "    </tr>\n",
       "    <tr>\n",
       "      <th>4</th>\n",
       "      <td>DEST</td>\n",
       "      <td>0</td>\n",
       "      <td>100.0</td>\n",
       "    </tr>\n",
       "    <tr>\n",
       "      <th>5</th>\n",
       "      <td>CRS_DEP_TIME</td>\n",
       "      <td>0</td>\n",
       "      <td>100.0</td>\n",
       "    </tr>\n",
       "    <tr>\n",
       "      <th>6</th>\n",
       "      <td>DEP_DELAY</td>\n",
       "      <td>0</td>\n",
       "      <td>100.0</td>\n",
       "    </tr>\n",
       "    <tr>\n",
       "      <th>7</th>\n",
       "      <td>CRS_ARR_TIME</td>\n",
       "      <td>0</td>\n",
       "      <td>100.0</td>\n",
       "    </tr>\n",
       "  </tbody>\n",
       "</table>\n",
       "</div>"
      ],
      "text/plain": [
       "       variable  missing values  filling factor (%)\n",
       "0  DAY_OF_MONTH               0               100.0\n",
       "1   DAY_OF_WEEK               0               100.0\n",
       "2         MONTH               0               100.0\n",
       "3        ORIGIN               0               100.0\n",
       "4          DEST               0               100.0\n",
       "5  CRS_DEP_TIME               0               100.0\n",
       "6     DEP_DELAY               0               100.0\n",
       "7  CRS_ARR_TIME               0               100.0"
      ]
     },
     "execution_count": 6,
     "metadata": {},
     "output_type": "execute_result"
    }
   ],
   "source": [
    "# Filling factor\n",
    "missing_df = df.isnull().sum(axis=0).reset_index()\n",
    "missing_df.columns = ['variable', 'missing values']\n",
    "missing_df['filling factor (%)']=(df.shape[0]-missing_df['missing values'])/df.shape[0]*100\n",
    "missing_df.sort_values('filling factor (%)').reset_index(drop = True)"
   ]
  },
  {
   "cell_type": "markdown",
   "metadata": {},
   "source": [
    "<H2>Model n°1: One airline, one airport</H2>"
   ]
  },
  {
   "cell_type": "code",
   "execution_count": 7,
   "metadata": {},
   "outputs": [
    {
     "data": {
      "text/plain": [
       "(1633, 7)"
      ]
     },
     "execution_count": 7,
     "metadata": {},
     "output_type": "execute_result"
    }
   ],
   "source": [
    "df1 = df[df['ORIGIN'] == 'JFK']\n",
    "df1 = df1.drop('ORIGIN',axis=1)\n",
    "df1.shape"
   ]
  },
  {
   "cell_type": "code",
   "execution_count": 8,
   "metadata": {},
   "outputs": [
    {
     "data": {
      "text/html": [
       "<div>\n",
       "<style scoped>\n",
       "    .dataframe tbody tr th:only-of-type {\n",
       "        vertical-align: middle;\n",
       "    }\n",
       "\n",
       "    .dataframe tbody tr th {\n",
       "        vertical-align: top;\n",
       "    }\n",
       "\n",
       "    .dataframe thead th {\n",
       "        text-align: right;\n",
       "    }\n",
       "</style>\n",
       "<table border=\"1\" class=\"dataframe\">\n",
       "  <thead>\n",
       "    <tr style=\"text-align: right;\">\n",
       "      <th></th>\n",
       "      <th>DAY_OF_MONTH</th>\n",
       "      <th>DAY_OF_WEEK</th>\n",
       "      <th>MONTH</th>\n",
       "      <th>DEST</th>\n",
       "      <th>CRS_DEP_TIME</th>\n",
       "      <th>DEP_DELAY</th>\n",
       "      <th>CRS_ARR_TIME</th>\n",
       "    </tr>\n",
       "  </thead>\n",
       "  <tbody>\n",
       "    <tr>\n",
       "      <th>2</th>\n",
       "      <td>1</td>\n",
       "      <td>5</td>\n",
       "      <td>1</td>\n",
       "      <td>PBI</td>\n",
       "      <td>805</td>\n",
       "      <td>2</td>\n",
       "      <td>1105</td>\n",
       "    </tr>\n",
       "    <tr>\n",
       "      <th>8</th>\n",
       "      <td>1</td>\n",
       "      <td>5</td>\n",
       "      <td>1</td>\n",
       "      <td>JAX</td>\n",
       "      <td>1452</td>\n",
       "      <td>80</td>\n",
       "      <td>1735</td>\n",
       "    </tr>\n",
       "    <tr>\n",
       "      <th>21</th>\n",
       "      <td>1</td>\n",
       "      <td>5</td>\n",
       "      <td>1</td>\n",
       "      <td>PBI</td>\n",
       "      <td>1810</td>\n",
       "      <td>8</td>\n",
       "      <td>2110</td>\n",
       "    </tr>\n",
       "    <tr>\n",
       "      <th>25</th>\n",
       "      <td>1</td>\n",
       "      <td>5</td>\n",
       "      <td>1</td>\n",
       "      <td>MSY</td>\n",
       "      <td>1455</td>\n",
       "      <td>89</td>\n",
       "      <td>1736</td>\n",
       "    </tr>\n",
       "    <tr>\n",
       "      <th>27</th>\n",
       "      <td>1</td>\n",
       "      <td>5</td>\n",
       "      <td>1</td>\n",
       "      <td>HOU</td>\n",
       "      <td>1329</td>\n",
       "      <td>1</td>\n",
       "      <td>1639</td>\n",
       "    </tr>\n",
       "    <tr>\n",
       "      <th>...</th>\n",
       "      <td>...</td>\n",
       "      <td>...</td>\n",
       "      <td>...</td>\n",
       "      <td>...</td>\n",
       "      <td>...</td>\n",
       "      <td>...</td>\n",
       "      <td>...</td>\n",
       "    </tr>\n",
       "    <tr>\n",
       "      <th>10231</th>\n",
       "      <td>3</td>\n",
       "      <td>7</td>\n",
       "      <td>1</td>\n",
       "      <td>JAX</td>\n",
       "      <td>2032</td>\n",
       "      <td>24</td>\n",
       "      <td>2312</td>\n",
       "    </tr>\n",
       "    <tr>\n",
       "      <th>10269</th>\n",
       "      <td>24</td>\n",
       "      <td>7</td>\n",
       "      <td>1</td>\n",
       "      <td>SLC</td>\n",
       "      <td>2059</td>\n",
       "      <td>13</td>\n",
       "      <td>19</td>\n",
       "    </tr>\n",
       "    <tr>\n",
       "      <th>10274</th>\n",
       "      <td>24</td>\n",
       "      <td>7</td>\n",
       "      <td>1</td>\n",
       "      <td>SAN</td>\n",
       "      <td>1646</td>\n",
       "      <td>8</td>\n",
       "      <td>2004</td>\n",
       "    </tr>\n",
       "    <tr>\n",
       "      <th>10281</th>\n",
       "      <td>24</td>\n",
       "      <td>7</td>\n",
       "      <td>1</td>\n",
       "      <td>BOS</td>\n",
       "      <td>1359</td>\n",
       "      <td>63</td>\n",
       "      <td>1505</td>\n",
       "    </tr>\n",
       "    <tr>\n",
       "      <th>10287</th>\n",
       "      <td>24</td>\n",
       "      <td>7</td>\n",
       "      <td>1</td>\n",
       "      <td>PHX</td>\n",
       "      <td>1919</td>\n",
       "      <td>8</td>\n",
       "      <td>2303</td>\n",
       "    </tr>\n",
       "  </tbody>\n",
       "</table>\n",
       "<p>1633 rows × 7 columns</p>\n",
       "</div>"
      ],
      "text/plain": [
       "       DAY_OF_MONTH  DAY_OF_WEEK  MONTH DEST  CRS_DEP_TIME  DEP_DELAY  \\\n",
       "2                 1            5      1  PBI           805          2   \n",
       "8                 1            5      1  JAX          1452         80   \n",
       "21                1            5      1  PBI          1810          8   \n",
       "25                1            5      1  MSY          1455         89   \n",
       "27                1            5      1  HOU          1329          1   \n",
       "...             ...          ...    ...  ...           ...        ...   \n",
       "10231             3            7      1  JAX          2032         24   \n",
       "10269            24            7      1  SLC          2059         13   \n",
       "10274            24            7      1  SAN          1646          8   \n",
       "10281            24            7      1  BOS          1359         63   \n",
       "10287            24            7      1  PHX          1919          8   \n",
       "\n",
       "       CRS_ARR_TIME  \n",
       "2              1105  \n",
       "8              1735  \n",
       "21             2110  \n",
       "25             1736  \n",
       "27             1639  \n",
       "...             ...  \n",
       "10231          2312  \n",
       "10269            19  \n",
       "10274          2004  \n",
       "10281          1505  \n",
       "10287          2303  \n",
       "\n",
       "[1633 rows x 7 columns]"
      ]
     },
     "execution_count": 8,
     "metadata": {},
     "output_type": "execute_result"
    }
   ],
   "source": [
    "df1"
   ]
  },
  {
   "cell_type": "code",
   "execution_count": 9,
   "metadata": {},
   "outputs": [
    {
     "data": {
      "text/html": [
       "<div>\n",
       "<style scoped>\n",
       "    .dataframe tbody tr th:only-of-type {\n",
       "        vertical-align: middle;\n",
       "    }\n",
       "\n",
       "    .dataframe tbody tr th {\n",
       "        vertical-align: top;\n",
       "    }\n",
       "\n",
       "    .dataframe thead th {\n",
       "        text-align: right;\n",
       "    }\n",
       "</style>\n",
       "<table border=\"1\" class=\"dataframe\">\n",
       "  <thead>\n",
       "    <tr style=\"text-align: right;\">\n",
       "      <th></th>\n",
       "      <th>DAY_OF_MONTH</th>\n",
       "      <th>DAY_OF_WEEK</th>\n",
       "      <th>MONTH</th>\n",
       "      <th>CRS_DEP_TIME</th>\n",
       "      <th>DEP_DELAY</th>\n",
       "      <th>CRS_ARR_TIME</th>\n",
       "      <th>DEST_ABQ</th>\n",
       "      <th>DEST_AUS</th>\n",
       "      <th>DEST_BOS</th>\n",
       "      <th>DEST_BQN</th>\n",
       "      <th>...</th>\n",
       "      <th>DEST_SAV</th>\n",
       "      <th>DEST_SEA</th>\n",
       "      <th>DEST_SFO</th>\n",
       "      <th>DEST_SJC</th>\n",
       "      <th>DEST_SJU</th>\n",
       "      <th>DEST_SLC</th>\n",
       "      <th>DEST_SMF</th>\n",
       "      <th>DEST_SRQ</th>\n",
       "      <th>DEST_SYR</th>\n",
       "      <th>DEST_TPA</th>\n",
       "    </tr>\n",
       "  </thead>\n",
       "  <tbody>\n",
       "    <tr>\n",
       "      <th>2</th>\n",
       "      <td>1</td>\n",
       "      <td>5</td>\n",
       "      <td>1</td>\n",
       "      <td>805</td>\n",
       "      <td>2</td>\n",
       "      <td>1105</td>\n",
       "      <td>0</td>\n",
       "      <td>0</td>\n",
       "      <td>0</td>\n",
       "      <td>0</td>\n",
       "      <td>...</td>\n",
       "      <td>0</td>\n",
       "      <td>0</td>\n",
       "      <td>0</td>\n",
       "      <td>0</td>\n",
       "      <td>0</td>\n",
       "      <td>0</td>\n",
       "      <td>0</td>\n",
       "      <td>0</td>\n",
       "      <td>0</td>\n",
       "      <td>0</td>\n",
       "    </tr>\n",
       "    <tr>\n",
       "      <th>8</th>\n",
       "      <td>1</td>\n",
       "      <td>5</td>\n",
       "      <td>1</td>\n",
       "      <td>1452</td>\n",
       "      <td>80</td>\n",
       "      <td>1735</td>\n",
       "      <td>0</td>\n",
       "      <td>0</td>\n",
       "      <td>0</td>\n",
       "      <td>0</td>\n",
       "      <td>...</td>\n",
       "      <td>0</td>\n",
       "      <td>0</td>\n",
       "      <td>0</td>\n",
       "      <td>0</td>\n",
       "      <td>0</td>\n",
       "      <td>0</td>\n",
       "      <td>0</td>\n",
       "      <td>0</td>\n",
       "      <td>0</td>\n",
       "      <td>0</td>\n",
       "    </tr>\n",
       "    <tr>\n",
       "      <th>21</th>\n",
       "      <td>1</td>\n",
       "      <td>5</td>\n",
       "      <td>1</td>\n",
       "      <td>1810</td>\n",
       "      <td>8</td>\n",
       "      <td>2110</td>\n",
       "      <td>0</td>\n",
       "      <td>0</td>\n",
       "      <td>0</td>\n",
       "      <td>0</td>\n",
       "      <td>...</td>\n",
       "      <td>0</td>\n",
       "      <td>0</td>\n",
       "      <td>0</td>\n",
       "      <td>0</td>\n",
       "      <td>0</td>\n",
       "      <td>0</td>\n",
       "      <td>0</td>\n",
       "      <td>0</td>\n",
       "      <td>0</td>\n",
       "      <td>0</td>\n",
       "    </tr>\n",
       "    <tr>\n",
       "      <th>25</th>\n",
       "      <td>1</td>\n",
       "      <td>5</td>\n",
       "      <td>1</td>\n",
       "      <td>1455</td>\n",
       "      <td>89</td>\n",
       "      <td>1736</td>\n",
       "      <td>0</td>\n",
       "      <td>0</td>\n",
       "      <td>0</td>\n",
       "      <td>0</td>\n",
       "      <td>...</td>\n",
       "      <td>0</td>\n",
       "      <td>0</td>\n",
       "      <td>0</td>\n",
       "      <td>0</td>\n",
       "      <td>0</td>\n",
       "      <td>0</td>\n",
       "      <td>0</td>\n",
       "      <td>0</td>\n",
       "      <td>0</td>\n",
       "      <td>0</td>\n",
       "    </tr>\n",
       "    <tr>\n",
       "      <th>27</th>\n",
       "      <td>1</td>\n",
       "      <td>5</td>\n",
       "      <td>1</td>\n",
       "      <td>1329</td>\n",
       "      <td>1</td>\n",
       "      <td>1639</td>\n",
       "      <td>0</td>\n",
       "      <td>0</td>\n",
       "      <td>0</td>\n",
       "      <td>0</td>\n",
       "      <td>...</td>\n",
       "      <td>0</td>\n",
       "      <td>0</td>\n",
       "      <td>0</td>\n",
       "      <td>0</td>\n",
       "      <td>0</td>\n",
       "      <td>0</td>\n",
       "      <td>0</td>\n",
       "      <td>0</td>\n",
       "      <td>0</td>\n",
       "      <td>0</td>\n",
       "    </tr>\n",
       "  </tbody>\n",
       "</table>\n",
       "<p>5 rows × 49 columns</p>\n",
       "</div>"
      ],
      "text/plain": [
       "    DAY_OF_MONTH  DAY_OF_WEEK  MONTH  CRS_DEP_TIME  DEP_DELAY  CRS_ARR_TIME  \\\n",
       "2              1            5      1           805          2          1105   \n",
       "8              1            5      1          1452         80          1735   \n",
       "21             1            5      1          1810          8          2110   \n",
       "25             1            5      1          1455         89          1736   \n",
       "27             1            5      1          1329          1          1639   \n",
       "\n",
       "    DEST_ABQ  DEST_AUS  DEST_BOS  DEST_BQN  ...  DEST_SAV  DEST_SEA  DEST_SFO  \\\n",
       "2          0         0         0         0  ...         0         0         0   \n",
       "8          0         0         0         0  ...         0         0         0   \n",
       "21         0         0         0         0  ...         0         0         0   \n",
       "25         0         0         0         0  ...         0         0         0   \n",
       "27         0         0         0         0  ...         0         0         0   \n",
       "\n",
       "    DEST_SJC  DEST_SJU  DEST_SLC  DEST_SMF  DEST_SRQ  DEST_SYR  DEST_TPA  \n",
       "2          0         0         0         0         0         0         0  \n",
       "8          0         0         0         0         0         0         0  \n",
       "21         0         0         0         0         0         0         0  \n",
       "25         0         0         0         0         0         0         0  \n",
       "27         0         0         0         0         0         0         0  \n",
       "\n",
       "[5 rows x 49 columns]"
      ]
     },
     "execution_count": 9,
     "metadata": {},
     "output_type": "execute_result"
    }
   ],
   "source": [
    "df1 = pd.get_dummies(df1, columns = ['DEST'])\n",
    "df1.head(5)"
   ]
  },
  {
   "cell_type": "code",
   "execution_count": 10,
   "metadata": {},
   "outputs": [],
   "source": [
    "X = df1.drop('DEP_DELAY',axis=1)\n",
    "y = df1.DEP_DELAY\n",
    "X_train, X_test, y_train, y_test = train_test_split(X, y, test_size=0.3, random_state=1) "
   ]
  },
  {
   "cell_type": "code",
   "execution_count": 11,
   "metadata": {},
   "outputs": [],
   "source": [
    "std_scale = preprocessing.StandardScaler().fit(X_train)\n",
    "X_train_std = std_scale.transform(X_train)\n",
    "X_test_std = std_scale.transform(X_test)"
   ]
  },
  {
   "cell_type": "markdown",
   "metadata": {},
   "source": [
    "<H3>Model n°1 - Linear Regression - Implementation"
   ]
  },
  {
   "cell_type": "code",
   "execution_count": 12,
   "metadata": {},
   "outputs": [
    {
     "name": "stdout",
     "output_type": "stream",
     "text": [
      "1486.1839609371352\n"
     ]
    }
   ],
   "source": [
    "# On crée un modèle de régression linéaire\n",
    "lr = linear_model.LinearRegression()\n",
    "\n",
    "# On entraîne ce modèle sur les données d'entrainement\n",
    "lr.fit(X_train_std,y_train)\n",
    "\n",
    "# On récupère l'erreur de norme 2 sur le jeu de données test comme baseline\n",
    "baseline_error = np.mean((lr.predict(X_test_std) - y_test) ** 2)\n",
    "\n",
    "print(baseline_error)"
   ]
  },
  {
   "cell_type": "code",
   "execution_count": 13,
   "metadata": {},
   "outputs": [
    {
     "name": "stdout",
     "output_type": "stream",
     "text": [
      "41.786527103547705\n",
      "0.06841794118823574\n",
      "38.55105654761145\n",
      "-0.00999824846215347\n"
     ]
    }
   ],
   "source": [
    "pred_train_lr= lr.predict(X_train_std)\n",
    "print(np.sqrt(mean_squared_error(y_train,pred_train_lr)))\n",
    "print(r2_score(y_train, pred_train_lr))\n",
    "\n",
    "pred_test_lr= lr.predict(X_test_std)\n",
    "print(np.sqrt(mean_squared_error(y_test,pred_test_lr))) \n",
    "print(r2_score(y_test, pred_test_lr))"
   ]
  },
  {
   "cell_type": "code",
   "execution_count": 14,
   "metadata": {},
   "outputs": [
    {
     "name": "stdout",
     "output_type": "stream",
     "text": [
      "MSE = 1486.1839609371357\n"
     ]
    }
   ],
   "source": [
    "mse = mean_squared_error(pred_test_lr, y_test)\n",
    "print(\"MSE =\", mse)"
   ]
  },
  {
   "cell_type": "markdown",
   "metadata": {},
   "source": [
    "<H3>Model n°1 - Linear Regression - Result</H3>"
   ]
  },
  {
   "cell_type": "code",
   "execution_count": 15,
   "metadata": {},
   "outputs": [
    {
     "data": {
      "text/plain": [
       "'Number of predictions where the differences with real values is greater than 15 minutes: 66.33%'"
      ]
     },
     "execution_count": 15,
     "metadata": {},
     "output_type": "execute_result"
    }
   ],
   "source": [
    "icount = 0\n",
    "for i, val in enumerate(y_test):\n",
    "    if abs(val-pred_test_lr[i]) > 15: icount += 1\n",
    "'Number of predictions where the differences with real values is greater than 15 minutes: {:.2f}%'.format(icount / len(pred_test_lr) * 100)"
   ]
  },
  {
   "cell_type": "code",
   "execution_count": 16,
   "metadata": {},
   "outputs": [
    {
     "data": {
      "text/plain": [
       "'Delay = 38.55 min'"
      ]
     },
     "execution_count": 16,
     "metadata": {},
     "output_type": "execute_result"
    }
   ],
   "source": [
    "'Delay = {:.2f} min'.format(np.sqrt(mse))"
   ]
  },
  {
   "cell_type": "code",
   "execution_count": 17,
   "metadata": {},
   "outputs": [],
   "source": [
    "del df1"
   ]
  },
  {
   "cell_type": "markdown",
   "metadata": {},
   "source": [
    "<H2>Model n°2: One airline, all airports</H2>"
   ]
  },
  {
   "cell_type": "code",
   "execution_count": 18,
   "metadata": {},
   "outputs": [],
   "source": [
    "df.to_csv('flights_B6.csv')"
   ]
  },
  {
   "cell_type": "code",
   "execution_count": 19,
   "metadata": {},
   "outputs": [
    {
     "data": {
      "text/html": [
       "<div>\n",
       "<style scoped>\n",
       "    .dataframe tbody tr th:only-of-type {\n",
       "        vertical-align: middle;\n",
       "    }\n",
       "\n",
       "    .dataframe tbody tr th {\n",
       "        vertical-align: top;\n",
       "    }\n",
       "\n",
       "    .dataframe thead th {\n",
       "        text-align: right;\n",
       "    }\n",
       "</style>\n",
       "<table border=\"1\" class=\"dataframe\">\n",
       "  <thead>\n",
       "    <tr style=\"text-align: right;\">\n",
       "      <th></th>\n",
       "      <th>DAY_OF_MONTH</th>\n",
       "      <th>DAY_OF_WEEK</th>\n",
       "      <th>MONTH</th>\n",
       "      <th>CRS_DEP_TIME</th>\n",
       "      <th>DEP_DELAY</th>\n",
       "      <th>CRS_ARR_TIME</th>\n",
       "      <th>DEST_ABQ</th>\n",
       "      <th>DEST_ALB</th>\n",
       "      <th>DEST_AUS</th>\n",
       "      <th>DEST_BDL</th>\n",
       "      <th>...</th>\n",
       "      <th>ORIGIN_SJC</th>\n",
       "      <th>ORIGIN_SJU</th>\n",
       "      <th>ORIGIN_SLC</th>\n",
       "      <th>ORIGIN_SMF</th>\n",
       "      <th>ORIGIN_SRQ</th>\n",
       "      <th>ORIGIN_STT</th>\n",
       "      <th>ORIGIN_STX</th>\n",
       "      <th>ORIGIN_SWF</th>\n",
       "      <th>ORIGIN_SYR</th>\n",
       "      <th>ORIGIN_TPA</th>\n",
       "    </tr>\n",
       "  </thead>\n",
       "  <tbody>\n",
       "    <tr>\n",
       "      <th>0</th>\n",
       "      <td>1</td>\n",
       "      <td>5</td>\n",
       "      <td>1</td>\n",
       "      <td>1810</td>\n",
       "      <td>8</td>\n",
       "      <td>2110</td>\n",
       "      <td>0</td>\n",
       "      <td>0</td>\n",
       "      <td>0</td>\n",
       "      <td>0</td>\n",
       "      <td>...</td>\n",
       "      <td>0</td>\n",
       "      <td>0</td>\n",
       "      <td>0</td>\n",
       "      <td>0</td>\n",
       "      <td>0</td>\n",
       "      <td>0</td>\n",
       "      <td>0</td>\n",
       "      <td>1</td>\n",
       "      <td>0</td>\n",
       "      <td>0</td>\n",
       "    </tr>\n",
       "    <tr>\n",
       "      <th>1</th>\n",
       "      <td>1</td>\n",
       "      <td>5</td>\n",
       "      <td>1</td>\n",
       "      <td>2015</td>\n",
       "      <td>12</td>\n",
       "      <td>2132</td>\n",
       "      <td>0</td>\n",
       "      <td>0</td>\n",
       "      <td>0</td>\n",
       "      <td>0</td>\n",
       "      <td>...</td>\n",
       "      <td>0</td>\n",
       "      <td>0</td>\n",
       "      <td>0</td>\n",
       "      <td>0</td>\n",
       "      <td>0</td>\n",
       "      <td>0</td>\n",
       "      <td>0</td>\n",
       "      <td>0</td>\n",
       "      <td>0</td>\n",
       "      <td>0</td>\n",
       "    </tr>\n",
       "    <tr>\n",
       "      <th>2</th>\n",
       "      <td>1</td>\n",
       "      <td>5</td>\n",
       "      <td>1</td>\n",
       "      <td>805</td>\n",
       "      <td>2</td>\n",
       "      <td>1105</td>\n",
       "      <td>0</td>\n",
       "      <td>0</td>\n",
       "      <td>0</td>\n",
       "      <td>0</td>\n",
       "      <td>...</td>\n",
       "      <td>0</td>\n",
       "      <td>0</td>\n",
       "      <td>0</td>\n",
       "      <td>0</td>\n",
       "      <td>0</td>\n",
       "      <td>0</td>\n",
       "      <td>0</td>\n",
       "      <td>0</td>\n",
       "      <td>0</td>\n",
       "      <td>0</td>\n",
       "    </tr>\n",
       "    <tr>\n",
       "      <th>3</th>\n",
       "      <td>1</td>\n",
       "      <td>5</td>\n",
       "      <td>1</td>\n",
       "      <td>1716</td>\n",
       "      <td>11</td>\n",
       "      <td>2000</td>\n",
       "      <td>0</td>\n",
       "      <td>0</td>\n",
       "      <td>0</td>\n",
       "      <td>0</td>\n",
       "      <td>...</td>\n",
       "      <td>0</td>\n",
       "      <td>0</td>\n",
       "      <td>0</td>\n",
       "      <td>0</td>\n",
       "      <td>0</td>\n",
       "      <td>0</td>\n",
       "      <td>0</td>\n",
       "      <td>0</td>\n",
       "      <td>0</td>\n",
       "      <td>0</td>\n",
       "    </tr>\n",
       "    <tr>\n",
       "      <th>4</th>\n",
       "      <td>1</td>\n",
       "      <td>5</td>\n",
       "      <td>1</td>\n",
       "      <td>826</td>\n",
       "      <td>4</td>\n",
       "      <td>1116</td>\n",
       "      <td>0</td>\n",
       "      <td>0</td>\n",
       "      <td>0</td>\n",
       "      <td>1</td>\n",
       "      <td>...</td>\n",
       "      <td>0</td>\n",
       "      <td>0</td>\n",
       "      <td>0</td>\n",
       "      <td>0</td>\n",
       "      <td>0</td>\n",
       "      <td>0</td>\n",
       "      <td>0</td>\n",
       "      <td>0</td>\n",
       "      <td>0</td>\n",
       "      <td>0</td>\n",
       "    </tr>\n",
       "  </tbody>\n",
       "</table>\n",
       "<p>5 rows × 130 columns</p>\n",
       "</div>"
      ],
      "text/plain": [
       "   DAY_OF_MONTH  DAY_OF_WEEK  MONTH  CRS_DEP_TIME  DEP_DELAY  CRS_ARR_TIME  \\\n",
       "0             1            5      1          1810          8          2110   \n",
       "1             1            5      1          2015         12          2132   \n",
       "2             1            5      1           805          2          1105   \n",
       "3             1            5      1          1716         11          2000   \n",
       "4             1            5      1           826          4          1116   \n",
       "\n",
       "   DEST_ABQ  DEST_ALB  DEST_AUS  DEST_BDL  ...  ORIGIN_SJC  ORIGIN_SJU  \\\n",
       "0         0         0         0         0  ...           0           0   \n",
       "1         0         0         0         0  ...           0           0   \n",
       "2         0         0         0         0  ...           0           0   \n",
       "3         0         0         0         0  ...           0           0   \n",
       "4         0         0         0         1  ...           0           0   \n",
       "\n",
       "   ORIGIN_SLC  ORIGIN_SMF  ORIGIN_SRQ  ORIGIN_STT  ORIGIN_STX  ORIGIN_SWF  \\\n",
       "0           0           0           0           0           0           1   \n",
       "1           0           0           0           0           0           0   \n",
       "2           0           0           0           0           0           0   \n",
       "3           0           0           0           0           0           0   \n",
       "4           0           0           0           0           0           0   \n",
       "\n",
       "   ORIGIN_SYR  ORIGIN_TPA  \n",
       "0           0           0  \n",
       "1           0           0  \n",
       "2           0           0  \n",
       "3           0           0  \n",
       "4           0           0  \n",
       "\n",
       "[5 rows x 130 columns]"
      ]
     },
     "execution_count": 19,
     "metadata": {},
     "output_type": "execute_result"
    }
   ],
   "source": [
    "df = pd.get_dummies(df, columns = ['DEST'])\n",
    "df = pd.get_dummies(df, columns = ['ORIGIN'])\n",
    "df.head(5)"
   ]
  },
  {
   "cell_type": "markdown",
   "metadata": {},
   "source": [
    "<B>Split data</B><BR>\n",
    "Split the data set into train and test sets (use X_train, X_test, y_train, y_test), with the first 70% of the data for training and the remaining for testing."
   ]
  },
  {
   "cell_type": "code",
   "execution_count": 20,
   "metadata": {},
   "outputs": [],
   "source": [
    "X = df.drop('DEP_DELAY',axis=1)\n",
    "y = df.DEP_DELAY\n",
    "X_train, X_test, y_train, y_test = train_test_split(X, y, test_size=0.3, random_state=1) "
   ]
  },
  {
   "cell_type": "markdown",
   "metadata": {},
   "source": [
    "<B>Standardisation"
   ]
  },
  {
   "cell_type": "code",
   "execution_count": 21,
   "metadata": {},
   "outputs": [],
   "source": [
    "std_scale = preprocessing.StandardScaler().fit(X_train)\n",
    "X_train_std = std_scale.transform(X_train)\n",
    "X_test_std = std_scale.transform(X_test)"
   ]
  },
  {
   "cell_type": "markdown",
   "metadata": {},
   "source": [
    "<H3>Linear regression</H3>"
   ]
  },
  {
   "cell_type": "markdown",
   "metadata": {},
   "source": [
    "<H3>Model n°2 - Linear Regression - Implementation"
   ]
  },
  {
   "cell_type": "markdown",
   "metadata": {},
   "source": [
    "<b>Baseline model</b><BR>\n",
    "We can now run our baseline model. This will give us a measure of comparison for the ridge and lasso model. Our metric is the mean squared error. Below is the code with the results of the model."
   ]
  },
  {
   "cell_type": "code",
   "execution_count": 22,
   "metadata": {},
   "outputs": [
    {
     "name": "stdout",
     "output_type": "stream",
     "text": [
      "2359.7400988796708\n"
     ]
    }
   ],
   "source": [
    "# On crée un modèle de régression linéaire\n",
    "lr = linear_model.LinearRegression()\n",
    "\n",
    "# On entraîne ce modèle sur les données d'entrainement\n",
    "lr.fit(X_train_std,y_train)\n",
    "\n",
    "# On récupère l'erreur de norme 2 sur le jeu de données test comme baseline\n",
    "baseline_error = np.mean((lr.predict(X_test_std) - y_test) ** 2)\n",
    "\n",
    "print(baseline_error)"
   ]
  },
  {
   "cell_type": "code",
   "execution_count": 23,
   "metadata": {},
   "outputs": [
    {
     "name": "stdout",
     "output_type": "stream",
     "text": [
      "46.897555398610166\n",
      "0.04482486672819874\n",
      "48.5771561423646\n",
      "-0.0015630117710301317\n"
     ]
    }
   ],
   "source": [
    "pred_train_lr= lr.predict(X_train_std)\n",
    "print(np.sqrt(mean_squared_error(y_train,pred_train_lr)))\n",
    "print(r2_score(y_train, pred_train_lr))\n",
    "\n",
    "pred_test_lr= lr.predict(X_test_std)\n",
    "print(np.sqrt(mean_squared_error(y_test,pred_test_lr))) \n",
    "print(r2_score(y_test, pred_test_lr))"
   ]
  },
  {
   "cell_type": "markdown",
   "metadata": {},
   "source": [
    "The above output shows that the RMSE, one of the two evaluation metrics, is 54.23 for train data and 54.31 for test data. On the other hand, R-squared value is 3.29 percent for train data and 2.55 percent for test data."
   ]
  },
  {
   "cell_type": "code",
   "execution_count": 24,
   "metadata": {},
   "outputs": [
    {
     "name": "stdout",
     "output_type": "stream",
     "text": [
      "MSE = 2359.7400988796708\n"
     ]
    }
   ],
   "source": [
    "mse = mean_squared_error(pred_test_lr, y_test)\n",
    "print(\"MSE =\", mse)"
   ]
  },
  {
   "cell_type": "markdown",
   "metadata": {},
   "source": [
    "<H3>Model n°2 - Linear Regression - Results"
   ]
  },
  {
   "cell_type": "code",
   "execution_count": 25,
   "metadata": {},
   "outputs": [
    {
     "data": {
      "text/plain": [
       "'Number of predictions where the differences with real values is greater than 15 minutes: 71.58%'"
      ]
     },
     "execution_count": 25,
     "metadata": {},
     "output_type": "execute_result"
    }
   ],
   "source": [
    "icount = 0\n",
    "for i, val in enumerate(y_test):\n",
    "    if abs(val-pred_test_lr[i]) > 15: icount += 1\n",
    "'Number of predictions where the differences with real values is greater than 15 minutes: {:.2f}%'.format(icount / len(pred_test_lr) * 100)"
   ]
  },
  {
   "cell_type": "code",
   "execution_count": 26,
   "metadata": {},
   "outputs": [
    {
     "data": {
      "text/plain": [
       "'Delay = 48.58 min'"
      ]
     },
     "execution_count": 26,
     "metadata": {},
     "output_type": "execute_result"
    }
   ],
   "source": [
    "'Delay = {:.2f} min'.format(np.sqrt(mse))"
   ]
  },
  {
   "cell_type": "markdown",
   "metadata": {},
   "source": [
    "<H3>Model n°2 - Ridge Regression - Implementation</H3>"
   ]
  },
  {
   "cell_type": "markdown",
   "metadata": {},
   "source": [
    "<B>Best alpha</B><BR>\n",
    "Alpha is an important factor in regularization. It defines Ridge shrinkage or regularization strength. The higher value means the stronger regularization. We don't know which value works efficiently for our regularization method. Thus we'll figure out the best alpha value by checking the model accuracy with setting multiple alpha values."
   ]
  },
  {
   "cell_type": "code",
   "execution_count": 27,
   "metadata": {},
   "outputs": [],
   "source": [
    "n_alphas = 100\n",
    "alphas = np.logspace(-3, 7, n_alphas)"
   ]
  },
  {
   "cell_type": "code",
   "execution_count": 28,
   "metadata": {},
   "outputs": [],
   "source": [
    "ridge = linear_model.Ridge()\n",
    "\n",
    "coefs = []\n",
    "errors = []\n",
    "for a in alphas:\n",
    "    ridge.set_params(alpha=a)\n",
    "    ridge.fit(X_train_std, y_train)\n",
    "    coefs.append(ridge.coef_)\n",
    "    errors.append([baseline_error, np.mean((ridge.predict(X_test_std) - y_test) ** 2)])"
   ]
  },
  {
   "cell_type": "code",
   "execution_count": 29,
   "metadata": {},
   "outputs": [
    {
     "data": {
      "image/png": "[encoded data removed]",
      "text/plain": [
       "<Figure size 864x576 with 1 Axes>"
      ]
     },
     "metadata": {},
     "output_type": "display_data"
    }
   ],
   "source": [
    "plt.figure(figsize=(12,8))\n",
    "ax = plt.gca()\n",
    "ax.plot(alphas, coefs)\n",
    "ax.set_xscale('log')\n",
    "plt.xlabel('alpha')\n",
    "plt.ylabel('poids')\n",
    "plt.title('Les poids des différents paramètres en fonction de alpha')\n",
    "plt.axis('tight')\n",
    "plt.show()"
   ]
  },
  {
   "cell_type": "code",
   "execution_count": 30,
   "metadata": {},
   "outputs": [
    {
     "data": {
      "image/png": "[encoded data removed]",
      "text/plain": [
       "<Figure size 864x576 with 1 Axes>"
      ]
     },
     "metadata": {},
     "output_type": "display_data"
    }
   ],
   "source": [
    "plt.figure(figsize=(12,8))\n",
    "ax = plt.gca()\n",
    "ax.plot(alphas, errors)\n",
    "ax.set_xscale('log')\n",
    "plt.xlabel('alpha')\n",
    "plt.ylabel('erreur')\n",
    "plt.title('Erreur en fonction d''alpha')\n",
    "plt.axis('tight')\n",
    "plt.show()"
   ]
  },
  {
   "cell_type": "code",
   "execution_count": 31,
   "metadata": {},
   "outputs": [
    {
     "data": {
      "text/plain": [
       "[2359.7400988796708, 2314.818064882566]"
      ]
     },
     "execution_count": 31,
     "metadata": {},
     "output_type": "execute_result"
    }
   ],
   "source": [
    "min(errors)"
   ]
  },
  {
   "cell_type": "markdown",
   "metadata": {},
   "source": [
    "<H3>Model n°2 - Cross-validation with RidgeCV</H3>"
   ]
  },
  {
   "cell_type": "markdown",
   "metadata": {},
   "source": [
    "RidgeCV is built-in cross-validation class. In this model, we can set all alpha values and get the efficient alpha value in a set."
   ]
  },
  {
   "cell_type": "code",
   "execution_count": 32,
   "metadata": {},
   "outputs": [
    {
     "name": "stdout",
     "output_type": "stream",
     "text": [
      "4641.588833612782\n"
     ]
    }
   ],
   "source": [
    "ridge_cv=RidgeCV(alphas=alphas, store_cv_values=True)\n",
    "ridge_mod = ridge_cv.fit(X_train_std,y_train)\n",
    "print(ridge_mod.alpha_)"
   ]
  },
  {
   "cell_type": "code",
   "execution_count": 33,
   "metadata": {},
   "outputs": [
    {
     "name": "stdout",
     "output_type": "stream",
     "text": [
      "46.9414919396971\n",
      "0.0430342936452498\n",
      "48.11412140949894\n",
      "0.01743967337604213\n"
     ]
    }
   ],
   "source": [
    "rr = Ridge(alpha=4641.59)\n",
    "rr.fit(X_train_std, y_train) \n",
    "pred_train_rr= rr.predict(X_train_std)\n",
    "print(np.sqrt(mean_squared_error(y_train,pred_train_rr)))\n",
    "print(r2_score(y_train, pred_train_rr))\n",
    "\n",
    "pred_test_rr= rr.predict(X_test_std)\n",
    "print(np.sqrt(mean_squared_error(y_test,pred_test_rr))) \n",
    "print(r2_score(y_test, pred_test_rr))"
   ]
  },
  {
   "cell_type": "code",
   "execution_count": 34,
   "metadata": {},
   "outputs": [],
   "source": [
    "y_pred = ridge_mod.predict(X_test_std)\n",
    "score = ridge_mod.score(X_test_std,y_test)"
   ]
  },
  {
   "cell_type": "code",
   "execution_count": 35,
   "metadata": {},
   "outputs": [
    {
     "name": "stdout",
     "output_type": "stream",
     "text": [
      "MSE = 2314.9686795106495\n"
     ]
    }
   ],
   "source": [
    "mse = mean_squared_error(y_test,y_pred)\n",
    "print(\"MSE =\", mse)"
   ]
  },
  {
   "cell_type": "code",
   "execution_count": 36,
   "metadata": {},
   "outputs": [
    {
     "data": {
      "image/png": "[encoded data removed]",
      "text/plain": [
       "<Figure size 1440x720 with 1 Axes>"
      ]
     },
     "metadata": {},
     "output_type": "display_data"
    }
   ],
   "source": [
    "plt.figure(figsize=(20, 10))\n",
    "x_ax = range(len(X_test))\n",
    "plt.scatter(x_ax, y_test, s=5, color=\"blue\", label=\"original\")\n",
    "plt.plot(x_ax, y_pred, lw=0.8, color=\"red\", label=\"predicted\")\n",
    "plt.legend()\n",
    "plt.show()"
   ]
  },
  {
   "cell_type": "code",
   "execution_count": 37,
   "metadata": {},
   "outputs": [
    {
     "data": {
      "text/plain": [
       "'Number of predictions where the differences with real values is greater than 15 minutes: 71.58%'"
      ]
     },
     "execution_count": 37,
     "metadata": {},
     "output_type": "execute_result"
    }
   ],
   "source": [
    "icount = 0\n",
    "for i, val in enumerate(y_test):\n",
    "    if abs(val-pred_test_lr[i]) > 15: icount += 1\n",
    "'Number of predictions where the differences with real values is greater than 15 minutes: {:.2f}%'.format(icount / len(pred_test_lr) * 100)"
   ]
  },
  {
   "cell_type": "code",
   "execution_count": 38,
   "metadata": {},
   "outputs": [
    {
     "data": {
      "text/plain": [
       "'Delay = 48.11 min'"
      ]
     },
     "execution_count": 38,
     "metadata": {},
     "output_type": "execute_result"
    }
   ],
   "source": [
    "'Delay = {:.2f} min'.format(np.sqrt(mse))"
   ]
  },
  {
   "cell_type": "markdown",
   "metadata": {},
   "source": [
    "<H3>Model n°2 - Lasso regression - Implementation</H3>"
   ]
  },
  {
   "cell_type": "markdown",
   "metadata": {},
   "source": [
    "Apply Lasso regression on the training set with the regularization parameter lambda = 0.5 and print the \n",
    "R^2-score for the training and test set."
   ]
  },
  {
   "cell_type": "code",
   "execution_count": 39,
   "metadata": {},
   "outputs": [],
   "source": [
    "n_alphas = 50\n",
    "alphas = np.logspace(-4, 2, n_alphas)\n",
    "lasso = linear_model.Lasso(fit_intercept=False)\n",
    "\n",
    "coefs = []\n",
    "errors = []\n",
    "for a in alphas:\n",
    "    lasso.set_params(alpha=a)\n",
    "    lasso.fit(X_train_std, y_train)\n",
    "    coefs.append(lasso.coef_)\n",
    "    errors.append([baseline_error, np.mean((lasso.predict(X_test_std) - y_test) ** 2)])"
   ]
  },
  {
   "cell_type": "code",
   "execution_count": 40,
   "metadata": {},
   "outputs": [
    {
     "data": {
      "image/png": "[encoded data removed]",
      "text/plain": [
       "<Figure size 864x576 with 1 Axes>"
      ]
     },
     "metadata": {},
     "output_type": "display_data"
    }
   ],
   "source": [
    "plt.figure(figsize=(12,8))\n",
    "ax = plt.gca()\n",
    "ax.plot(alphas, coefs)\n",
    "ax.set_xscale('log')\n",
    "plt.xlabel('alpha')\n",
    "plt.ylabel('poids')\n",
    "plt.title('Les poids des différents paramètres en fonction de alpha')\n",
    "plt.axis('tight')\n",
    "plt.show()"
   ]
  },
  {
   "cell_type": "code",
   "execution_count": 41,
   "metadata": {},
   "outputs": [
    {
     "data": {
      "text/plain": [
       "[2359.7400988796708, 3748.42204966778]"
      ]
     },
     "execution_count": 41,
     "metadata": {},
     "output_type": "execute_result"
    }
   ],
   "source": [
    "min(errors)"
   ]
  },
  {
   "cell_type": "markdown",
   "metadata": {},
   "source": [
    "<H3>Model n°2 - Lasso regression - Lasso CV</H3>"
   ]
  },
  {
   "cell_type": "markdown",
   "metadata": {},
   "source": [
    "LassoCV applies cross-validation method to find out the best model. We'll set multiple alpha values and to train the model."
   ]
  },
  {
   "cell_type": "code",
   "execution_count": 42,
   "metadata": {},
   "outputs": [
    {
     "name": "stdout",
     "output_type": "stream",
     "text": [
      "0.6\n"
     ]
    }
   ],
   "source": [
    "alphas = [0.5,0.6,0.7,0.8,0.9,1]\n",
    "lassocv = LassoCV(alphas=alphas, cv=5).fit(X_train_std,y_train)\n",
    "print(lassocv.alpha_)"
   ]
  },
  {
   "cell_type": "code",
   "execution_count": 43,
   "metadata": {},
   "outputs": [],
   "source": [
    "score = lassocv.score(X_train_std,y_train)\n",
    "y_pred = lassocv.predict(X_test_std)"
   ]
  },
  {
   "cell_type": "code",
   "execution_count": 44,
   "metadata": {},
   "outputs": [
    {
     "name": "stdout",
     "output_type": "stream",
     "text": [
      "MSE = 2307.3883863761075\n"
     ]
    }
   ],
   "source": [
    "mse = mean_squared_error(y_test,y_pred)\n",
    "print(\"MSE =\", mse)"
   ]
  },
  {
   "cell_type": "code",
   "execution_count": 45,
   "metadata": {},
   "outputs": [
    {
     "name": "stdout",
     "output_type": "stream",
     "text": [
      "47.039407286388595\n",
      "0.03903785675174609\n",
      "48.03528272401556\n",
      "0.02065703647552608\n"
     ]
    }
   ],
   "source": [
    "model_lasso = Lasso(alpha=0.6)\n",
    "model_lasso.fit(X_train_std, y_train) \n",
    "pred_train_lasso= model_lasso.predict(X_train_std)\n",
    "print(np.sqrt(mean_squared_error(y_train,pred_train_lasso)))\n",
    "print(r2_score(y_train, pred_train_lasso))\n",
    "\n",
    "pred_test_lasso= model_lasso.predict(X_test_std)\n",
    "print(np.sqrt(mean_squared_error(y_test,pred_test_lasso))) \n",
    "print(r2_score(y_test, pred_test_lasso))"
   ]
  },
  {
   "cell_type": "markdown",
   "metadata": {},
   "source": [
    "Finally, we can visualize the result in a plot."
   ]
  },
  {
   "cell_type": "code",
   "execution_count": 46,
   "metadata": {},
   "outputs": [
    {
     "data": {
      "image/png": "[encoded data removed]",
      "text/plain": [
       "<Figure size 1440x720 with 1 Axes>"
      ]
     },
     "metadata": {},
     "output_type": "display_data"
    }
   ],
   "source": [
    "plt.figure(figsize=(20, 10))\n",
    "x_ax = range(len(X_test_std))\n",
    "plt.scatter(x_ax, y_test, s=5, color=\"blue\", label=\"original\")\n",
    "plt.plot(x_ax, y_pred,lw=0.8, color=\"red\", label=\"predicted\")\n",
    "plt.legend()\n",
    "plt.show()"
   ]
  },
  {
   "cell_type": "markdown",
   "metadata": {},
   "source": [
    "<H3>Model n°2 - Lasso regression - Results</H3>"
   ]
  },
  {
   "cell_type": "code",
   "execution_count": 47,
   "metadata": {},
   "outputs": [
    {
     "data": {
      "text/plain": [
       "'Number of predictions where the differences with real values is greater than 15 minutes: 71.58%'"
      ]
     },
     "execution_count": 47,
     "metadata": {},
     "output_type": "execute_result"
    }
   ],
   "source": [
    "icount = 0\n",
    "for i, val in enumerate(y_test):\n",
    "    if abs(val-pred_test_lr[i]) > 15: icount += 1\n",
    "'Number of predictions where the differences with real values is greater than 15 minutes: {:.2f}%'.format(icount / len(pred_test_lr) * 100)"
   ]
  },
  {
   "cell_type": "code",
   "execution_count": 48,
   "metadata": {},
   "outputs": [
    {
     "data": {
      "text/plain": [
       "'Delay = 48.04 min'"
      ]
     },
     "execution_count": 48,
     "metadata": {},
     "output_type": "execute_result"
    }
   ],
   "source": [
    "'Delay = {:.2f} min'.format(np.sqrt(mse))"
   ]
  },
  {
   "cell_type": "markdown",
   "metadata": {},
   "source": [
    "<H2> Model n°3: All airlines, one airport</H2>"
   ]
  },
  {
   "cell_type": "code",
   "execution_count": 49,
   "metadata": {},
   "outputs": [],
   "source": [
    "all_files = [\"2016_01.csv\"]\n",
    "li = []\n",
    "columns_to_keep = ['DAY_OF_MONTH','DAY_OF_WEEK','MONTH','UNIQUE_CARRIER','DEST','CRS_DEP_TIME','DEP_DELAY','CRS_ARR_TIME']\n",
    "for filename in all_files:\n",
    "    df = pd.read_csv(filename, index_col=None, header=0,error_bad_lines=False)\n",
    "    # Filter on ExpressJet\n",
    "    df = df[df['ORIGIN'] == 'JFK']\n",
    "    # Leaving only non-canceled flights\n",
    "    df = df[(df['CANCELLED'] == 0)]\n",
    "    # Leaving only non-diverted flights\n",
    "    df = df[(df['DIVERTED'] == 0)]\n",
    "    # Filter out non-delayed flights < 0 DEP_DELAY\n",
    "    df = df[(df['DEP_DELAY'] > 0)]\n",
    "    # Keeping only necessary columns\n",
    "    df = df[columns_to_keep]\n",
    "    li.append(df)\n",
    "df = pd.concat(li, axis=0, ignore_index=True)\n",
    "del li"
   ]
  },
  {
   "cell_type": "code",
   "execution_count": 50,
   "metadata": {},
   "outputs": [
    {
     "name": "stdout",
     "output_type": "stream",
     "text": [
      "<class 'pandas.core.frame.DataFrame'>\n",
      "RangeIndex: 3102 entries, 0 to 3101\n",
      "Data columns (total 8 columns):\n",
      " #   Column          Non-Null Count  Dtype \n",
      "---  ------          --------------  ----- \n",
      " 0   DAY_OF_MONTH    3102 non-null   int64 \n",
      " 1   DAY_OF_WEEK     3102 non-null   int64 \n",
      " 2   MONTH           3102 non-null   int64 \n",
      " 3   UNIQUE_CARRIER  3102 non-null   object\n",
      " 4   DEST            3102 non-null   object\n",
      " 5   CRS_DEP_TIME    3102 non-null   int64 \n",
      " 6   DEP_DELAY       3102 non-null   int64 \n",
      " 7   CRS_ARR_TIME    3102 non-null   int64 \n",
      "dtypes: int64(6), object(2)\n",
      "memory usage: 194.0+ KB\n"
     ]
    }
   ],
   "source": [
    "# Type conversion\n",
    "df['DAY_OF_WEEK'] = df['DAY_OF_WEEK'].astype(int)\n",
    "df['DAY_OF_MONTH'] = df['DAY_OF_MONTH'].astype(int)\n",
    "df['CRS_DEP_TIME'] = df['CRS_DEP_TIME'].astype(int)\n",
    "df['DEP_DELAY'] = df['DEP_DELAY'].astype(int)\n",
    "df.info()"
   ]
  },
  {
   "cell_type": "code",
   "execution_count": 51,
   "metadata": {},
   "outputs": [
    {
     "data": {
      "text/html": [
       "<div>\n",
       "<style scoped>\n",
       "    .dataframe tbody tr th:only-of-type {\n",
       "        vertical-align: middle;\n",
       "    }\n",
       "\n",
       "    .dataframe tbody tr th {\n",
       "        vertical-align: top;\n",
       "    }\n",
       "\n",
       "    .dataframe thead th {\n",
       "        text-align: right;\n",
       "    }\n",
       "</style>\n",
       "<table border=\"1\" class=\"dataframe\">\n",
       "  <thead>\n",
       "    <tr style=\"text-align: right;\">\n",
       "      <th></th>\n",
       "      <th>variable</th>\n",
       "      <th>missing values</th>\n",
       "      <th>filling factor (%)</th>\n",
       "    </tr>\n",
       "  </thead>\n",
       "  <tbody>\n",
       "    <tr>\n",
       "      <th>0</th>\n",
       "      <td>DAY_OF_MONTH</td>\n",
       "      <td>0</td>\n",
       "      <td>100.0</td>\n",
       "    </tr>\n",
       "    <tr>\n",
       "      <th>1</th>\n",
       "      <td>DAY_OF_WEEK</td>\n",
       "      <td>0</td>\n",
       "      <td>100.0</td>\n",
       "    </tr>\n",
       "    <tr>\n",
       "      <th>2</th>\n",
       "      <td>MONTH</td>\n",
       "      <td>0</td>\n",
       "      <td>100.0</td>\n",
       "    </tr>\n",
       "    <tr>\n",
       "      <th>3</th>\n",
       "      <td>UNIQUE_CARRIER</td>\n",
       "      <td>0</td>\n",
       "      <td>100.0</td>\n",
       "    </tr>\n",
       "    <tr>\n",
       "      <th>4</th>\n",
       "      <td>DEST</td>\n",
       "      <td>0</td>\n",
       "      <td>100.0</td>\n",
       "    </tr>\n",
       "    <tr>\n",
       "      <th>5</th>\n",
       "      <td>CRS_DEP_TIME</td>\n",
       "      <td>0</td>\n",
       "      <td>100.0</td>\n",
       "    </tr>\n",
       "    <tr>\n",
       "      <th>6</th>\n",
       "      <td>DEP_DELAY</td>\n",
       "      <td>0</td>\n",
       "      <td>100.0</td>\n",
       "    </tr>\n",
       "    <tr>\n",
       "      <th>7</th>\n",
       "      <td>CRS_ARR_TIME</td>\n",
       "      <td>0</td>\n",
       "      <td>100.0</td>\n",
       "    </tr>\n",
       "  </tbody>\n",
       "</table>\n",
       "</div>"
      ],
      "text/plain": [
       "         variable  missing values  filling factor (%)\n",
       "0    DAY_OF_MONTH               0               100.0\n",
       "1     DAY_OF_WEEK               0               100.0\n",
       "2           MONTH               0               100.0\n",
       "3  UNIQUE_CARRIER               0               100.0\n",
       "4            DEST               0               100.0\n",
       "5    CRS_DEP_TIME               0               100.0\n",
       "6       DEP_DELAY               0               100.0\n",
       "7    CRS_ARR_TIME               0               100.0"
      ]
     },
     "execution_count": 51,
     "metadata": {},
     "output_type": "execute_result"
    }
   ],
   "source": [
    "# Filling factor\n",
    "missing_df = df.isnull().sum(axis=0).reset_index()\n",
    "missing_df.columns = ['variable', 'missing values']\n",
    "missing_df['filling factor (%)']=(df.shape[0]-missing_df['missing values'])/df.shape[0]*100\n",
    "missing_df.sort_values('filling factor (%)').reset_index(drop = True)"
   ]
  },
  {
   "cell_type": "code",
   "execution_count": 52,
   "metadata": {},
   "outputs": [
    {
     "data": {
      "text/html": [
       "<div>\n",
       "<style scoped>\n",
       "    .dataframe tbody tr th:only-of-type {\n",
       "        vertical-align: middle;\n",
       "    }\n",
       "\n",
       "    .dataframe tbody tr th {\n",
       "        vertical-align: top;\n",
       "    }\n",
       "\n",
       "    .dataframe thead th {\n",
       "        text-align: right;\n",
       "    }\n",
       "</style>\n",
       "<table border=\"1\" class=\"dataframe\">\n",
       "  <thead>\n",
       "    <tr style=\"text-align: right;\">\n",
       "      <th></th>\n",
       "      <th>DAY_OF_MONTH</th>\n",
       "      <th>DAY_OF_WEEK</th>\n",
       "      <th>MONTH</th>\n",
       "      <th>CRS_DEP_TIME</th>\n",
       "      <th>DEP_DELAY</th>\n",
       "      <th>CRS_ARR_TIME</th>\n",
       "      <th>DEST_ABQ</th>\n",
       "      <th>DEST_ATL</th>\n",
       "      <th>DEST_AUS</th>\n",
       "      <th>DEST_BOS</th>\n",
       "      <th>...</th>\n",
       "      <th>DEST_SRQ</th>\n",
       "      <th>DEST_STT</th>\n",
       "      <th>DEST_SYR</th>\n",
       "      <th>DEST_TPA</th>\n",
       "      <th>UNIQUE_CARRIER_AA</th>\n",
       "      <th>UNIQUE_CARRIER_AS</th>\n",
       "      <th>UNIQUE_CARRIER_B6</th>\n",
       "      <th>UNIQUE_CARRIER_DL</th>\n",
       "      <th>UNIQUE_CARRIER_HA</th>\n",
       "      <th>UNIQUE_CARRIER_VX</th>\n",
       "    </tr>\n",
       "  </thead>\n",
       "  <tbody>\n",
       "    <tr>\n",
       "      <th>0</th>\n",
       "      <td>2</td>\n",
       "      <td>6</td>\n",
       "      <td>1</td>\n",
       "      <td>1825</td>\n",
       "      <td>64</td>\n",
       "      <td>2150</td>\n",
       "      <td>0</td>\n",
       "      <td>0</td>\n",
       "      <td>0</td>\n",
       "      <td>0</td>\n",
       "      <td>...</td>\n",
       "      <td>0</td>\n",
       "      <td>0</td>\n",
       "      <td>0</td>\n",
       "      <td>0</td>\n",
       "      <td>1</td>\n",
       "      <td>0</td>\n",
       "      <td>0</td>\n",
       "      <td>0</td>\n",
       "      <td>0</td>\n",
       "      <td>0</td>\n",
       "    </tr>\n",
       "    <tr>\n",
       "      <th>1</th>\n",
       "      <td>3</td>\n",
       "      <td>7</td>\n",
       "      <td>1</td>\n",
       "      <td>1825</td>\n",
       "      <td>31</td>\n",
       "      <td>2150</td>\n",
       "      <td>0</td>\n",
       "      <td>0</td>\n",
       "      <td>0</td>\n",
       "      <td>0</td>\n",
       "      <td>...</td>\n",
       "      <td>0</td>\n",
       "      <td>0</td>\n",
       "      <td>0</td>\n",
       "      <td>0</td>\n",
       "      <td>1</td>\n",
       "      <td>0</td>\n",
       "      <td>0</td>\n",
       "      <td>0</td>\n",
       "      <td>0</td>\n",
       "      <td>0</td>\n",
       "    </tr>\n",
       "    <tr>\n",
       "      <th>2</th>\n",
       "      <td>4</td>\n",
       "      <td>1</td>\n",
       "      <td>1</td>\n",
       "      <td>1825</td>\n",
       "      <td>46</td>\n",
       "      <td>2150</td>\n",
       "      <td>0</td>\n",
       "      <td>0</td>\n",
       "      <td>0</td>\n",
       "      <td>0</td>\n",
       "      <td>...</td>\n",
       "      <td>0</td>\n",
       "      <td>0</td>\n",
       "      <td>0</td>\n",
       "      <td>0</td>\n",
       "      <td>1</td>\n",
       "      <td>0</td>\n",
       "      <td>0</td>\n",
       "      <td>0</td>\n",
       "      <td>0</td>\n",
       "      <td>0</td>\n",
       "    </tr>\n",
       "    <tr>\n",
       "      <th>3</th>\n",
       "      <td>5</td>\n",
       "      <td>2</td>\n",
       "      <td>1</td>\n",
       "      <td>1820</td>\n",
       "      <td>6</td>\n",
       "      <td>2142</td>\n",
       "      <td>0</td>\n",
       "      <td>0</td>\n",
       "      <td>0</td>\n",
       "      <td>0</td>\n",
       "      <td>...</td>\n",
       "      <td>0</td>\n",
       "      <td>0</td>\n",
       "      <td>0</td>\n",
       "      <td>0</td>\n",
       "      <td>1</td>\n",
       "      <td>0</td>\n",
       "      <td>0</td>\n",
       "      <td>0</td>\n",
       "      <td>0</td>\n",
       "      <td>0</td>\n",
       "    </tr>\n",
       "    <tr>\n",
       "      <th>4</th>\n",
       "      <td>6</td>\n",
       "      <td>3</td>\n",
       "      <td>1</td>\n",
       "      <td>1820</td>\n",
       "      <td>2</td>\n",
       "      <td>2142</td>\n",
       "      <td>0</td>\n",
       "      <td>0</td>\n",
       "      <td>0</td>\n",
       "      <td>0</td>\n",
       "      <td>...</td>\n",
       "      <td>0</td>\n",
       "      <td>0</td>\n",
       "      <td>0</td>\n",
       "      <td>0</td>\n",
       "      <td>1</td>\n",
       "      <td>0</td>\n",
       "      <td>0</td>\n",
       "      <td>0</td>\n",
       "      <td>0</td>\n",
       "      <td>0</td>\n",
       "    </tr>\n",
       "  </tbody>\n",
       "</table>\n",
       "<p>5 rows × 67 columns</p>\n",
       "</div>"
      ],
      "text/plain": [
       "   DAY_OF_MONTH  DAY_OF_WEEK  MONTH  CRS_DEP_TIME  DEP_DELAY  CRS_ARR_TIME  \\\n",
       "0             2            6      1          1825         64          2150   \n",
       "1             3            7      1          1825         31          2150   \n",
       "2             4            1      1          1825         46          2150   \n",
       "3             5            2      1          1820          6          2142   \n",
       "4             6            3      1          1820          2          2142   \n",
       "\n",
       "   DEST_ABQ  DEST_ATL  DEST_AUS  DEST_BOS  ...  DEST_SRQ  DEST_STT  DEST_SYR  \\\n",
       "0         0         0         0         0  ...         0         0         0   \n",
       "1         0         0         0         0  ...         0         0         0   \n",
       "2         0         0         0         0  ...         0         0         0   \n",
       "3         0         0         0         0  ...         0         0         0   \n",
       "4         0         0         0         0  ...         0         0         0   \n",
       "\n",
       "   DEST_TPA  UNIQUE_CARRIER_AA  UNIQUE_CARRIER_AS  UNIQUE_CARRIER_B6  \\\n",
       "0         0                  1                  0                  0   \n",
       "1         0                  1                  0                  0   \n",
       "2         0                  1                  0                  0   \n",
       "3         0                  1                  0                  0   \n",
       "4         0                  1                  0                  0   \n",
       "\n",
       "   UNIQUE_CARRIER_DL  UNIQUE_CARRIER_HA  UNIQUE_CARRIER_VX  \n",
       "0                  0                  0                  0  \n",
       "1                  0                  0                  0  \n",
       "2                  0                  0                  0  \n",
       "3                  0                  0                  0  \n",
       "4                  0                  0                  0  \n",
       "\n",
       "[5 rows x 67 columns]"
      ]
     },
     "execution_count": 52,
     "metadata": {},
     "output_type": "execute_result"
    }
   ],
   "source": [
    "df = pd.get_dummies(df, columns = ['DEST'])\n",
    "df = pd.get_dummies(df, columns = ['UNIQUE_CARRIER'])\n",
    "df.head(5)"
   ]
  },
  {
   "cell_type": "code",
   "execution_count": 53,
   "metadata": {},
   "outputs": [],
   "source": [
    "X = df.drop('DEP_DELAY',axis=1)\n",
    "y = df.DEP_DELAY\n",
    "X_train, X_test, y_train, y_test = train_test_split(X, y, test_size=0.3, random_state=1) "
   ]
  },
  {
   "cell_type": "code",
   "execution_count": 54,
   "metadata": {},
   "outputs": [],
   "source": [
    "std_scale = preprocessing.StandardScaler().fit(X_train)\n",
    "X_train_std = std_scale.transform(X_train)\n",
    "X_test_std = std_scale.transform(X_test)"
   ]
  },
  {
   "cell_type": "markdown",
   "metadata": {},
   "source": [
    "<H3>Model n°3 - Ridge regression - Implementation</H3>"
   ]
  },
  {
   "cell_type": "code",
   "execution_count": 55,
   "metadata": {},
   "outputs": [],
   "source": [
    "n_alphas = 100\n",
    "alphas = np.logspace(-3, 7, n_alphas)"
   ]
  },
  {
   "cell_type": "code",
   "execution_count": 56,
   "metadata": {},
   "outputs": [
    {
     "name": "stdout",
     "output_type": "stream",
     "text": [
      "1450.8287784959402\n"
     ]
    }
   ],
   "source": [
    "ridge_cv=RidgeCV(alphas=alphas, store_cv_values=True)\n",
    "ridge_mod = ridge_cv.fit(X_train_std,y_train)\n",
    "print(ridge_mod.alpha_)"
   ]
  },
  {
   "cell_type": "code",
   "execution_count": 57,
   "metadata": {},
   "outputs": [
    {
     "name": "stdout",
     "output_type": "stream",
     "text": [
      "50.67704058273413\n",
      "0.06471989343504658\n",
      "60.08809597102533\n",
      "0.017281494856386193\n"
     ]
    }
   ],
   "source": [
    "rr = Ridge(alpha=1450.83)\n",
    "rr.fit(X_train_std, y_train) \n",
    "pred_train_rr= rr.predict(X_train_std)\n",
    "print(np.sqrt(mean_squared_error(y_train,pred_train_rr)))\n",
    "print(r2_score(y_train, pred_train_rr))\n",
    "\n",
    "pred_test_rr= rr.predict(X_test_std)\n",
    "print(np.sqrt(mean_squared_error(y_test,pred_test_rr))) \n",
    "print(r2_score(y_test, pred_test_rr))"
   ]
  },
  {
   "cell_type": "code",
   "execution_count": 58,
   "metadata": {},
   "outputs": [],
   "source": [
    "y_pred = ridge_mod.predict(X_test_std)\n",
    "score = ridge_mod.score(X_test_std,y_test)"
   ]
  },
  {
   "cell_type": "code",
   "execution_count": 59,
   "metadata": {},
   "outputs": [
    {
     "name": "stdout",
     "output_type": "stream",
     "text": [
      "MSE = 3610.5792800107915\n"
     ]
    }
   ],
   "source": [
    "mse = mean_squared_error(y_test,y_pred)\n",
    "print(\"MSE =\", mse)"
   ]
  },
  {
   "cell_type": "markdown",
   "metadata": {},
   "source": [
    "<H3>Model n°3 - Ridge regression - Results</H3>"
   ]
  },
  {
   "cell_type": "code",
   "execution_count": 60,
   "metadata": {},
   "outputs": [
    {
     "data": {
      "text/plain": [
       "'Number of predictions where the differences with real values is greater than 15 minutes: 22.73%'"
      ]
     },
     "execution_count": 60,
     "metadata": {},
     "output_type": "execute_result"
    }
   ],
   "source": [
    "icount = 0\n",
    "for i, val in enumerate(y_test):\n",
    "    if abs(val-pred_test_lr[i]) > 15: icount += 1\n",
    "'Number of predictions where the differences with real values is greater than 15 minutes: {:.2f}%'.format(icount / len(pred_test_lr) * 100)"
   ]
  },
  {
   "cell_type": "code",
   "execution_count": 61,
   "metadata": {},
   "outputs": [
    {
     "data": {
      "text/plain": [
       "'Delay = 60.09 min'"
      ]
     },
     "execution_count": 61,
     "metadata": {},
     "output_type": "execute_result"
    }
   ],
   "source": [
    "'Delay = {:.2f} min'.format(np.sqrt(mse))"
   ]
  },
  {
   "cell_type": "markdown",
   "metadata": {},
   "source": [
    "<H3>Model n°3 - Lasso - Implementation</H3>"
   ]
  },
  {
   "cell_type": "code",
   "execution_count": 62,
   "metadata": {},
   "outputs": [
    {
     "name": "stdout",
     "output_type": "stream",
     "text": [
      "1.3\n"
     ]
    }
   ],
   "source": [
    "alphas = [1,1.1,1.2,1.3,1.4,1.5]\n",
    "lassocv = LassoCV(alphas=alphas, cv=5).fit(X_train_std,y_train)\n",
    "print(lassocv.alpha_)"
   ]
  },
  {
   "cell_type": "code",
   "execution_count": 63,
   "metadata": {},
   "outputs": [],
   "source": [
    "score = lassocv.score(X_train_std,y_train)\n",
    "y_pred = lassocv.predict(X_test_std)"
   ]
  },
  {
   "cell_type": "code",
   "execution_count": 64,
   "metadata": {},
   "outputs": [
    {
     "name": "stdout",
     "output_type": "stream",
     "text": [
      "MSE = 3594.8869011801394\n"
     ]
    }
   ],
   "source": [
    "mse = mean_squared_error(y_test,y_pred)\n",
    "print(\"MSE =\", mse)"
   ]
  },
  {
   "cell_type": "markdown",
   "metadata": {},
   "source": [
    "<H3>Model n°3 - Lasso - Results</H3>"
   ]
  },
  {
   "cell_type": "code",
   "execution_count": 65,
   "metadata": {},
   "outputs": [
    {
     "data": {
      "text/plain": [
       "'Delay = 59.96 min'"
      ]
     },
     "execution_count": 65,
     "metadata": {},
     "output_type": "execute_result"
    }
   ],
   "source": [
    "'Delay = {:.2f} min'.format(np.sqrt(mse))"
   ]
  },
  {
   "cell_type": "markdown",
   "metadata": {},
   "source": [
    "<H2>Performance evaluation</H2>"
   ]
  },
  {
   "cell_type": "code",
   "execution_count": 66,
   "metadata": {},
   "outputs": [],
   "source": [
    "y_pred_random = np.random.randint(np.min(y), np.max(y), y_test.shape)"
   ]
  },
  {
   "cell_type": "code",
   "execution_count": 67,
   "metadata": {},
   "outputs": [
    {
     "name": "stdout",
     "output_type": "stream",
     "text": [
      "MSE = 259286.23308270678\n"
     ]
    }
   ],
   "source": [
    "mse = mean_squared_error(y_test, y_pred_random)\n",
    "print(\"MSE =\", mse)"
   ]
  },
  {
   "cell_type": "code",
   "execution_count": 68,
   "metadata": {},
   "outputs": [
    {
     "data": {
      "text/plain": [
       "'Ecart = 509.20 min'"
      ]
     },
     "execution_count": 68,
     "metadata": {},
     "output_type": "execute_result"
    }
   ],
   "source": [
    "'Ecart = {:.2f} min'.format(np.sqrt(mse))"
   ]
  },
  {
   "cell_type": "markdown",
   "metadata": {},
   "source": [
    "<H3>Comparison with a random model</H3>"
   ]
  },
  {
   "cell_type": "code",
   "execution_count": 69,
   "metadata": {},
   "outputs": [],
   "source": [
    "dum = dummy.DummyRegressor(strategy='mean')\n",
    "\n",
    "# Entraînement\n",
    "dum.fit(X_train_std, y_train)\n",
    "\n",
    "# Prédiction sur le jeu de test\n",
    "y_pred_dum = dum.predict(X_test_std)"
   ]
  },
  {
   "cell_type": "code",
   "execution_count": 70,
   "metadata": {},
   "outputs": [
    {
     "name": "stdout",
     "output_type": "stream",
     "text": [
      "MSE = 3676.85882056067\n"
     ]
    }
   ],
   "source": [
    "# Evaluate\n",
    "mse = mean_squared_error(y_test, y_pred_dum)\n",
    "print(\"MSE =\", mse)"
   ]
  },
  {
   "cell_type": "code",
   "execution_count": 71,
   "metadata": {},
   "outputs": [
    {
     "data": {
      "text/plain": [
       "'Number of predictions where the differences with real values is greater than 15 minutes: 22.73%'"
      ]
     },
     "execution_count": 71,
     "metadata": {},
     "output_type": "execute_result"
    }
   ],
   "source": [
    "icount = 0\n",
    "for i, val in enumerate(y_test):\n",
    "    if abs(val-pred_test_lr[i]) > 15: icount += 1\n",
    "'Number of predictions where the differences with real values is greater than 15 minutes: {:.2f}%'.format(icount / len(pred_test_lr) * 100)"
   ]
  },
  {
   "cell_type": "code",
   "execution_count": 72,
   "metadata": {},
   "outputs": [
    {
     "data": {
      "text/plain": [
       "'Delay = 60.64 min'"
      ]
     },
     "execution_count": 72,
     "metadata": {},
     "output_type": "execute_result"
    }
   ],
   "source": [
    "'Delay = {:.2f} min'.format(np.sqrt(mse))"
   ]
  },
  {
   "cell_type": "markdown",
   "metadata": {},
   "source": [
    "<H2>Application</H2>"
   ]
  },
  {
   "cell_type": "code",
   "execution_count": 73,
   "metadata": {},
   "outputs": [],
   "source": [
    "def predict_delay(departure_date,departure_time,arrival_time,origin,destination):\n",
    "    from datetime import datetime\n",
    "\n",
    "  \n",
    "    try:\n",
    "        departure_date_parsed = datetime.strptime(departure_date, '%d/%m/%Y')\n",
    "        departure_time_parsed = datetime.strptime(departure_time, '%H:%M')\n",
    "        arrival_time_parsed = datetime.strptime(arrival_time, '%H:%M')\n",
    "        \n",
    "    except ValueError as e:\n",
    "        return 'Error parsing date/time - {}'.format(e)\n",
    "\n",
    "    month = departure_date_parsed.month\n",
    "    day = departure_date_parsed.day\n",
    "    day_of_week = departure_date_parsed.isoweekday()\n",
    "    hour_departure = departure_time_parsed.hour\n",
    "    hour_arrival = arrival_time_parsed.hour\n",
    "\n",
    "    origin = origin.upper()\n",
    "    destination = destination.upper()\n",
    "    \n",
    "    input = [{'MONTH': month,\n",
    "              'CRS_DEP_TIME': hour_departure,\n",
    "              'CRS_ARR_TIME': hour_arrival,\n",
    "              'DAY_OF_MONTH': month,\n",
    "              'DAY_OF_WEEK': day_of_week,\n",
    "              'ORIGIN_ABQ': 1 if origin == 'ABQ' else 0,\n",
    "              'ORIGIN_ALB': 1 if origin == 'ALB' else 0,\n",
    "              'ORIGIN_AUS': 1 if origin == 'AUS' else 0, \n",
    "              'ORIGIN_BDL': 1 if origin == 'BDL' else 0, \n",
    "              'ORIGIN_BOS': 1 if origin == 'BOS' else 0, \n",
    "              'ORIGIN_BQN': 1 if origin == 'BQN' else 0, \n",
    "              'ORIGIN_BTV': 1 if origin == 'BTV' else 0, \n",
    "              'ORIGIN_BUF': 1 if origin == 'BUF' else 0, \n",
    "              'ORIGIN_BUR': 1 if origin == 'BUR' else 0, \n",
    "              'ORIGIN_BWI': 1 if origin == 'BWI' else 0, \n",
    "              'ORIGIN_CHS': 1 if origin == 'CHS' else 0, \n",
    "              'ORIGIN_CLE': 1 if origin == 'CLE' else 0, \n",
    "              'ORIGIN_CLT': 1 if origin == 'CLT' else 0, \n",
    "              'ORIGIN_DAB': 1 if origin == 'DAB' else 0, \n",
    "              'ORIGIN_DCA': 1 if origin == 'DCA' else 0, \n",
    "              'ORIGIN_DEN': 1 if origin == 'DEN' else 0, \n",
    "              'ORIGIN_DFW': 1 if origin == 'DFW' else 0, \n",
    "              'ORIGIN_DTW': 1 if origin == 'DTW' else 0, \n",
    "              'ORIGIN_EWR': 1 if origin == 'EWR' else 0, \n",
    "              'ORIGIN_FLL': 1 if origin == 'FLL' else 0, \n",
    "              'ORIGIN_HOU': 1 if origin == 'HOU' else 0, \n",
    "              'ORIGIN_HPN': 1 if origin == 'HPN' else 0, \n",
    "              'ORIGIN_IAD': 1 if origin == 'IAD' else 0, \n",
    "              'ORIGIN_JAX': 1 if origin == 'JAX' else 0, \n",
    "              'ORIGIN_JFK': 1 if origin == 'JFK' else 0, \n",
    "              'ORIGIN_LAS': 1 if origin == 'LAS' else 0, \n",
    "              'ORIGIN_LAX': 1 if origin == 'LAX' else 0, \n",
    "              'ORIGIN_LGA': 1 if origin == 'LGA' else 0, \n",
    "              'ORIGIN_LGB': 1 if origin == 'LGB' else 0, \n",
    "              'ORIGIN_MCO': 1 if origin == 'MCO' else 0, \n",
    "              'ORIGIN_MSY': 1 if origin == 'MSY' else 0, \n",
    "              'ORIGIN_OAK': 1 if origin == 'OAK' else 0, \n",
    "              'ORIGIN_ORD': 1 if origin == 'ORD' else 0, \n",
    "              'ORIGIN_ORH': 1 if origin == 'ORH' else 0, \n",
    "              'ORIGIN_PBI': 1 if origin == 'PBI' else 0, \n",
    "              'ORIGIN_PDX': 1 if origin == 'PDX' else 0, \n",
    "              'ORIGIN_PHL': 1 if origin == 'PHL' else 0, \n",
    "              'ORIGIN_PHX': 1 if origin == 'PHX' else 0, \n",
    "              'ORIGIN_PIT': 1 if origin == 'PIT' else 0, \n",
    "              'ORIGIN_PSE': 1 if origin == 'PSE' else 0, \n",
    "              'ORIGIN_PSP': 1 if origin == 'PSP' else 0, \n",
    "              'ORIGIN_PVD': 1 if origin == 'PVD' else 0, \n",
    "              'ORIGIN_PWM': 1 if origin == 'PWM' else 0, \n",
    "              'ORIGIN_RDU': 1 if origin == 'RDU' else 0, \n",
    "              'ORIGIN_RIC': 1 if origin == 'RIC' else 0, \n",
    "              'ORIGIN_RNO': 1 if origin == 'RNO' else 0, \n",
    "              'ORIGIN_ROC': 1 if origin == 'ROC' else 0, \n",
    "              'ORIGIN_RSW': 1 if origin == 'RSW' else 0, \n",
    "              'ORIGIN_SAN': 1 if origin == 'SAN' else 0, \n",
    "              'ORIGIN_SAV': 1 if origin == 'SAV' else 0, \n",
    "              'ORIGIN_SEA': 1 if origin == 'SEA' else 0, \n",
    "              'ORIGIN_SFO': 1 if origin == 'SFO' else 0, \n",
    "              'ORIGIN_SJC': 1 if origin == 'SJC' else 0, \n",
    "              'ORIGIN_SJU': 1 if origin == 'SJU' else 0, \n",
    "              'ORIGIN_SLC': 1 if origin == 'SLC' else 0, \n",
    "              'ORIGIN_SMF': 1 if origin == 'SMF' else 0, \n",
    "              'ORIGIN_SRQ': 1 if origin == 'SRQ' else 0, \n",
    "              'ORIGIN_STT': 1 if origin == 'STT' else 0, \n",
    "              'ORIGIN_STX': 1 if origin == 'STX' else 0, \n",
    "              'ORIGIN_SWF': 1 if origin == 'SWF' else 0, \n",
    "              'ORIGIN_SYR': 1 if origin == 'SYR' else 0,\n",
    "              'ORIGIN_TPA': 1 if origin == 'TPA' else 0,\n",
    "              'DEST_ABQ': 1 if destination == 'ABQ' else 0,\n",
    "              'DEST_ALB': 1 if destination == 'ALB' else 0,\n",
    "              'DEST_AUS': 1 if destination == 'AUS' else 0, \n",
    "              'DEST_BDL': 1 if destination == 'BDL' else 0, \n",
    "              'DEST_BOS': 1 if destination == 'BOS' else 0, \n",
    "              'DEST_BQN': 1 if destination == 'BQN' else 0, \n",
    "              'DEST_BTV': 1 if destination == 'BTV' else 0, \n",
    "              'DEST_BUF': 1 if destination == 'BUF' else 0, \n",
    "              'DEST_BUR': 1 if destination == 'BUR' else 0, \n",
    "              'DEST_BWI': 1 if destination == 'BWI' else 0, \n",
    "              'DEST_CHS': 1 if destination == 'CHS' else 0, \n",
    "              'DEST_CLE': 1 if destination == 'CLE' else 0, \n",
    "              'DEST_CLT': 1 if destination == 'CLT' else 0, \n",
    "              'DEST_DAB': 1 if destination == 'DAB' else 0, \n",
    "              'DEST_DCA': 1 if destination == 'DCA' else 0, \n",
    "              'DEST_DEN': 1 if destination == 'DEN' else 0, \n",
    "              'DEST_DFW': 1 if destination == 'DFW' else 0, \n",
    "              'DEST_DTW': 1 if destination == 'DTW' else 0, \n",
    "              'DEST_EWR': 1 if destination == 'EWR' else 0, \n",
    "              'DEST_FLL': 1 if destination == 'FLL' else 0, \n",
    "              'DEST_HOU': 1 if destination == 'HOU' else 0, \n",
    "              'DEST_HPN': 1 if destination == 'HPN' else 0, \n",
    "              'DEST_IAD': 1 if destination == 'IAD' else 0, \n",
    "              'DEST_JAX': 1 if destination == 'JAX' else 0, \n",
    "              'DEST_JFK': 1 if destination == 'JFK' else 0, \n",
    "              'DEST_LAS': 1 if destination == 'LAS' else 0, \n",
    "              'DEST_LAX': 1 if destination == 'LAX' else 0, \n",
    "              'DEST_LGA': 1 if destination == 'LGA' else 0, \n",
    "              'DEST_LGB': 1 if destination == 'LGB' else 0, \n",
    "              'DEST_MCO': 1 if destination == 'MCO' else 0, \n",
    "              'DEST_MSY': 1 if destination == 'MSY' else 0, \n",
    "              'DEST_OAK': 1 if destination == 'OAK' else 0, \n",
    "              'DEST_ORD': 1 if destination == 'ORD' else 0, \n",
    "              'DEST_ORH': 1 if destination == 'ORH' else 0, \n",
    "              'DEST_PBI': 1 if destination == 'PBI' else 0, \n",
    "              'DEST_PDX': 1 if destination == 'PDX' else 0, \n",
    "              'DEST_PHL': 1 if destination == 'PHL' else 0, \n",
    "              'DEST_PHX': 1 if destination == 'PHX' else 0, \n",
    "              'DEST_PIT': 1 if destination == 'PIT' else 0, \n",
    "              'DEST_PSE': 1 if destination == 'PSE' else 0, \n",
    "              'DEST_PSP': 1 if destination == 'PSP' else 0, \n",
    "              'DEST_PVD': 1 if destination == 'PVD' else 0, \n",
    "              'DEST_PWM': 1 if destination == 'PWM' else 0, \n",
    "              'DEST_RDU': 1 if destination == 'RDU' else 0, \n",
    "              'DEST_RIC': 1 if destination == 'RIC' else 0, \n",
    "              'DEST_RNO': 1 if destination == 'RNO' else 0, \n",
    "              'DEST_ROC': 1 if destination == 'ROC' else 0, \n",
    "              'DEST_RSW': 1 if destination == 'RSW' else 0, \n",
    "              'DEST_SAN': 1 if destination == 'SAN' else 0, \n",
    "              'DEST_SAV': 1 if destination == 'SAV' else 0, \n",
    "              'DEST_SEA': 1 if destination == 'SEA' else 0, \n",
    "              'DEST_SFO': 1 if destination == 'SFO' else 0, \n",
    "              'DEST_SJC': 1 if destination == 'SJC' else 0, \n",
    "              'DEST_SJU': 1 if destination == 'SJU' else 0, \n",
    "              'DEST_SLC': 1 if destination == 'SLC' else 0, \n",
    "              'DEST_SMF': 1 if destination == 'SMF' else 0, \n",
    "              'DEST_SRQ': 1 if destination == 'SRQ' else 0, \n",
    "              'DEST_STT': 1 if destination == 'STT' else 0, \n",
    "              'DEST_STX': 1 if destination == 'STX' else 0, \n",
    "              'DEST_SWF': 1 if destination == 'SWF' else 0, \n",
    "              'DEST_SYR': 1 if destination == 'SYR' else 0,\n",
    "              'DEST_TPA': 1 if destination == 'TPA' else 0}]\n",
    " \n",
    "     # Now predict this with the model \n",
    "    model_lasso = Lasso(alpha=0.6)      \n",
    "    model_lasso.fit(X, y)\n",
    "    pred_delay = model_lasso.predict(pd.DataFrame(input))\n",
    "    print ('Your predicted delay is', int(pred_delay[0]), 'minutes.')\n",
    "    return"
   ]
  },
  {
   "cell_type": "code",
   "execution_count": 74,
   "metadata": {},
   "outputs": [
    {
     "data": {
      "text/html": [
       "<div>\n",
       "<style scoped>\n",
       "    .dataframe tbody tr th:only-of-type {\n",
       "        vertical-align: middle;\n",
       "    }\n",
       "\n",
       "    .dataframe tbody tr th {\n",
       "        vertical-align: top;\n",
       "    }\n",
       "\n",
       "    .dataframe thead th {\n",
       "        text-align: right;\n",
       "    }\n",
       "</style>\n",
       "<table border=\"1\" class=\"dataframe\">\n",
       "  <thead>\n",
       "    <tr style=\"text-align: right;\">\n",
       "      <th></th>\n",
       "      <th>DAY_OF_MONTH</th>\n",
       "      <th>DAY_OF_WEEK</th>\n",
       "      <th>MONTH</th>\n",
       "      <th>ORIGIN</th>\n",
       "      <th>DEST</th>\n",
       "      <th>CRS_DEP_TIME</th>\n",
       "      <th>DEP_DELAY</th>\n",
       "      <th>CRS_ARR_TIME</th>\n",
       "    </tr>\n",
       "  </thead>\n",
       "  <tbody>\n",
       "    <tr>\n",
       "      <th>0</th>\n",
       "      <td>1</td>\n",
       "      <td>5</td>\n",
       "      <td>1</td>\n",
       "      <td>SWF</td>\n",
       "      <td>MCO</td>\n",
       "      <td>1810</td>\n",
       "      <td>8</td>\n",
       "      <td>2110</td>\n",
       "    </tr>\n",
       "    <tr>\n",
       "      <th>1</th>\n",
       "      <td>1</td>\n",
       "      <td>5</td>\n",
       "      <td>1</td>\n",
       "      <td>LGB</td>\n",
       "      <td>OAK</td>\n",
       "      <td>2015</td>\n",
       "      <td>12</td>\n",
       "      <td>2132</td>\n",
       "    </tr>\n",
       "    <tr>\n",
       "      <th>2</th>\n",
       "      <td>1</td>\n",
       "      <td>5</td>\n",
       "      <td>1</td>\n",
       "      <td>JFK</td>\n",
       "      <td>PBI</td>\n",
       "      <td>805</td>\n",
       "      <td>2</td>\n",
       "      <td>1105</td>\n",
       "    </tr>\n",
       "    <tr>\n",
       "      <th>3</th>\n",
       "      <td>1</td>\n",
       "      <td>5</td>\n",
       "      <td>1</td>\n",
       "      <td>PBI</td>\n",
       "      <td>JFK</td>\n",
       "      <td>1716</td>\n",
       "      <td>11</td>\n",
       "      <td>2000</td>\n",
       "    </tr>\n",
       "    <tr>\n",
       "      <th>4</th>\n",
       "      <td>1</td>\n",
       "      <td>5</td>\n",
       "      <td>1</td>\n",
       "      <td>FLL</td>\n",
       "      <td>BDL</td>\n",
       "      <td>826</td>\n",
       "      <td>4</td>\n",
       "      <td>1116</td>\n",
       "    </tr>\n",
       "  </tbody>\n",
       "</table>\n",
       "</div>"
      ],
      "text/plain": [
       "   DAY_OF_MONTH  DAY_OF_WEEK  MONTH ORIGIN DEST  CRS_DEP_TIME  DEP_DELAY  \\\n",
       "0             1            5      1    SWF  MCO          1810          8   \n",
       "1             1            5      1    LGB  OAK          2015         12   \n",
       "2             1            5      1    JFK  PBI           805          2   \n",
       "3             1            5      1    PBI  JFK          1716         11   \n",
       "4             1            5      1    FLL  BDL           826          4   \n",
       "\n",
       "   CRS_ARR_TIME  \n",
       "0          2110  \n",
       "1          2132  \n",
       "2          1105  \n",
       "3          2000  \n",
       "4          1116  "
      ]
     },
     "execution_count": 74,
     "metadata": {},
     "output_type": "execute_result"
    }
   ],
   "source": [
    "df = pd.read_csv('flights_B6.csv')\n",
    "df = df.drop('Unnamed: 0', axis = 1)\n",
    "df.head(5)"
   ]
  },
  {
   "cell_type": "code",
   "execution_count": 75,
   "metadata": {},
   "outputs": [
    {
     "data": {
      "text/html": [
       "<div>\n",
       "<style scoped>\n",
       "    .dataframe tbody tr th:only-of-type {\n",
       "        vertical-align: middle;\n",
       "    }\n",
       "\n",
       "    .dataframe tbody tr th {\n",
       "        vertical-align: top;\n",
       "    }\n",
       "\n",
       "    .dataframe thead th {\n",
       "        text-align: right;\n",
       "    }\n",
       "</style>\n",
       "<table border=\"1\" class=\"dataframe\">\n",
       "  <thead>\n",
       "    <tr style=\"text-align: right;\">\n",
       "      <th></th>\n",
       "      <th>DAY_OF_MONTH</th>\n",
       "      <th>DAY_OF_WEEK</th>\n",
       "      <th>MONTH</th>\n",
       "      <th>CRS_DEP_TIME</th>\n",
       "      <th>DEP_DELAY</th>\n",
       "      <th>CRS_ARR_TIME</th>\n",
       "      <th>DEST_ABQ</th>\n",
       "      <th>DEST_ALB</th>\n",
       "      <th>DEST_AUS</th>\n",
       "      <th>DEST_BDL</th>\n",
       "      <th>...</th>\n",
       "      <th>ORIGIN_SJC</th>\n",
       "      <th>ORIGIN_SJU</th>\n",
       "      <th>ORIGIN_SLC</th>\n",
       "      <th>ORIGIN_SMF</th>\n",
       "      <th>ORIGIN_SRQ</th>\n",
       "      <th>ORIGIN_STT</th>\n",
       "      <th>ORIGIN_STX</th>\n",
       "      <th>ORIGIN_SWF</th>\n",
       "      <th>ORIGIN_SYR</th>\n",
       "      <th>ORIGIN_TPA</th>\n",
       "    </tr>\n",
       "  </thead>\n",
       "  <tbody>\n",
       "    <tr>\n",
       "      <th>0</th>\n",
       "      <td>1</td>\n",
       "      <td>5</td>\n",
       "      <td>1</td>\n",
       "      <td>1810</td>\n",
       "      <td>8</td>\n",
       "      <td>2110</td>\n",
       "      <td>0</td>\n",
       "      <td>0</td>\n",
       "      <td>0</td>\n",
       "      <td>0</td>\n",
       "      <td>...</td>\n",
       "      <td>0</td>\n",
       "      <td>0</td>\n",
       "      <td>0</td>\n",
       "      <td>0</td>\n",
       "      <td>0</td>\n",
       "      <td>0</td>\n",
       "      <td>0</td>\n",
       "      <td>1</td>\n",
       "      <td>0</td>\n",
       "      <td>0</td>\n",
       "    </tr>\n",
       "    <tr>\n",
       "      <th>1</th>\n",
       "      <td>1</td>\n",
       "      <td>5</td>\n",
       "      <td>1</td>\n",
       "      <td>2015</td>\n",
       "      <td>12</td>\n",
       "      <td>2132</td>\n",
       "      <td>0</td>\n",
       "      <td>0</td>\n",
       "      <td>0</td>\n",
       "      <td>0</td>\n",
       "      <td>...</td>\n",
       "      <td>0</td>\n",
       "      <td>0</td>\n",
       "      <td>0</td>\n",
       "      <td>0</td>\n",
       "      <td>0</td>\n",
       "      <td>0</td>\n",
       "      <td>0</td>\n",
       "      <td>0</td>\n",
       "      <td>0</td>\n",
       "      <td>0</td>\n",
       "    </tr>\n",
       "    <tr>\n",
       "      <th>2</th>\n",
       "      <td>1</td>\n",
       "      <td>5</td>\n",
       "      <td>1</td>\n",
       "      <td>805</td>\n",
       "      <td>2</td>\n",
       "      <td>1105</td>\n",
       "      <td>0</td>\n",
       "      <td>0</td>\n",
       "      <td>0</td>\n",
       "      <td>0</td>\n",
       "      <td>...</td>\n",
       "      <td>0</td>\n",
       "      <td>0</td>\n",
       "      <td>0</td>\n",
       "      <td>0</td>\n",
       "      <td>0</td>\n",
       "      <td>0</td>\n",
       "      <td>0</td>\n",
       "      <td>0</td>\n",
       "      <td>0</td>\n",
       "      <td>0</td>\n",
       "    </tr>\n",
       "    <tr>\n",
       "      <th>3</th>\n",
       "      <td>1</td>\n",
       "      <td>5</td>\n",
       "      <td>1</td>\n",
       "      <td>1716</td>\n",
       "      <td>11</td>\n",
       "      <td>2000</td>\n",
       "      <td>0</td>\n",
       "      <td>0</td>\n",
       "      <td>0</td>\n",
       "      <td>0</td>\n",
       "      <td>...</td>\n",
       "      <td>0</td>\n",
       "      <td>0</td>\n",
       "      <td>0</td>\n",
       "      <td>0</td>\n",
       "      <td>0</td>\n",
       "      <td>0</td>\n",
       "      <td>0</td>\n",
       "      <td>0</td>\n",
       "      <td>0</td>\n",
       "      <td>0</td>\n",
       "    </tr>\n",
       "    <tr>\n",
       "      <th>4</th>\n",
       "      <td>1</td>\n",
       "      <td>5</td>\n",
       "      <td>1</td>\n",
       "      <td>826</td>\n",
       "      <td>4</td>\n",
       "      <td>1116</td>\n",
       "      <td>0</td>\n",
       "      <td>0</td>\n",
       "      <td>0</td>\n",
       "      <td>1</td>\n",
       "      <td>...</td>\n",
       "      <td>0</td>\n",
       "      <td>0</td>\n",
       "      <td>0</td>\n",
       "      <td>0</td>\n",
       "      <td>0</td>\n",
       "      <td>0</td>\n",
       "      <td>0</td>\n",
       "      <td>0</td>\n",
       "      <td>0</td>\n",
       "      <td>0</td>\n",
       "    </tr>\n",
       "  </tbody>\n",
       "</table>\n",
       "<p>5 rows × 130 columns</p>\n",
       "</div>"
      ],
      "text/plain": [
       "   DAY_OF_MONTH  DAY_OF_WEEK  MONTH  CRS_DEP_TIME  DEP_DELAY  CRS_ARR_TIME  \\\n",
       "0             1            5      1          1810          8          2110   \n",
       "1             1            5      1          2015         12          2132   \n",
       "2             1            5      1           805          2          1105   \n",
       "3             1            5      1          1716         11          2000   \n",
       "4             1            5      1           826          4          1116   \n",
       "\n",
       "   DEST_ABQ  DEST_ALB  DEST_AUS  DEST_BDL  ...  ORIGIN_SJC  ORIGIN_SJU  \\\n",
       "0         0         0         0         0  ...           0           0   \n",
       "1         0         0         0         0  ...           0           0   \n",
       "2         0         0         0         0  ...           0           0   \n",
       "3         0         0         0         0  ...           0           0   \n",
       "4         0         0         0         1  ...           0           0   \n",
       "\n",
       "   ORIGIN_SLC  ORIGIN_SMF  ORIGIN_SRQ  ORIGIN_STT  ORIGIN_STX  ORIGIN_SWF  \\\n",
       "0           0           0           0           0           0           1   \n",
       "1           0           0           0           0           0           0   \n",
       "2           0           0           0           0           0           0   \n",
       "3           0           0           0           0           0           0   \n",
       "4           0           0           0           0           0           0   \n",
       "\n",
       "   ORIGIN_SYR  ORIGIN_TPA  \n",
       "0           0           0  \n",
       "1           0           0  \n",
       "2           0           0  \n",
       "3           0           0  \n",
       "4           0           0  \n",
       "\n",
       "[5 rows x 130 columns]"
      ]
     },
     "execution_count": 75,
     "metadata": {},
     "output_type": "execute_result"
    }
   ],
   "source": [
    "df = pd.get_dummies(df, columns = ['DEST'])\n",
    "df = pd.get_dummies(df, columns = ['ORIGIN'])\n",
    "df.head(5)"
   ]
  },
  {
   "cell_type": "code",
   "execution_count": 76,
   "metadata": {},
   "outputs": [],
   "source": [
    "X = df.drop('DEP_DELAY',axis=1)\n",
    "y = df.DEP_DELAY"
   ]
  },
  {
   "cell_type": "code",
   "execution_count": 77,
   "metadata": {},
   "outputs": [
    {
     "name": "stdout",
     "output_type": "stream",
     "text": [
      "Your predicted delay is 26 minutes.\n"
     ]
    }
   ],
   "source": [
    "predict_delay('24/01/2016','17:30','20:32','BDL', 'MCO')"
   ]
  },
  {
   "cell_type": "code",
   "execution_count": null,
   "metadata": {},
   "outputs": [],
   "source": []
  }
 ],
 "metadata": {
  "kernelspec": {
   "display_name": "Python 3",
   "language": "python",
   "name": "python3"
  },
  "language_info": {
   "codemirror_mode": {
    "name": "ipython",
    "version": 3
   },
   "file_extension": ".py",
   "mimetype": "text/x-python",
   "name": "python",
   "nbconvert_exporter": "python",
   "pygments_lexer": "ipython3",
   "version": "3.7.6"
  }
 },
 "nbformat": 4,
 "nbformat_minor": 4
}
